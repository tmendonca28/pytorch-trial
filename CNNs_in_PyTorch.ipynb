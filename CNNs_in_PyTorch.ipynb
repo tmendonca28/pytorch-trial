{
  "nbformat": 4,
  "nbformat_minor": 0,
  "metadata": {
    "colab": {
      "name": "CNNs_in_PyTorch.ipynb",
      "version": "0.3.2",
      "provenance": [],
      "include_colab_link": true
    },
    "kernelspec": {
      "name": "python3",
      "display_name": "Python 3"
    }
  },
  "cells": [
    {
      "cell_type": "markdown",
      "metadata": {
        "id": "view-in-github",
        "colab_type": "text"
      },
      "source": [
        "<a href=\"https://colab.research.google.com/github/tmendonca28/pytorch-trial/blob/master/CNNs_in_PyTorch.ipynb\" target=\"_parent\"><img src=\"https://colab.research.google.com/assets/colab-badge.svg\" alt=\"Open In Colab\"/></a>"
      ]
    },
    {
      "cell_type": "markdown",
      "metadata": {
        "id": "iJ0kkKstF7vs",
        "colab_type": "text"
      },
      "source": [
        "# Convolutional Neural Networks\n",
        "\n",
        "\n",
        "*   Additional convolutions and pooling layers before feedforward neural network\n",
        "*  **Input** -> **Additional Layers for C and P** -> **Fully Connected** -> **Output**\n",
        "\n"
      ]
    },
    {
      "cell_type": "markdown",
      "metadata": {
        "id": "eLJPT8nq0W9X",
        "colab_type": "text"
      },
      "source": [
        "# One Convolutional Layer\n",
        "* The 'torch light' is called a filter or kernel. (of size K, K)\n",
        "* It maps a single patch to a number known as the feature map.\n",
        "* A convolution is then a mapping from input to a bunch of numbers in the feature maps.\n",
        "* For *n* number of kernels we get *n* number of feature maps.\n",
        "* 2 operations are done per patch: element-wise mult. followed by summation."
      ]
    },
    {
      "cell_type": "markdown",
      "metadata": {
        "id": "jVoUe7tPOCNF",
        "colab_type": "text"
      },
      "source": [
        "# Model A\n",
        "* 2 Convolutional Layer\n",
        "  * Same padding (same output size)\n",
        "* 2 Max pooling layers\n",
        "* 1 Fully Connected Layer"
      ]
    },
    {
      "cell_type": "code",
      "metadata": {
        "id": "a1hQJOlWF1E2",
        "colab_type": "code",
        "colab": {}
      },
      "source": [
        "import torch\n",
        "import torch.nn as nn\n",
        "import torchvision.transforms as transforms\n",
        "import torchvision.datasets as dsets\n",
        "from torch.autograd import Variable"
      ],
      "execution_count": 0,
      "outputs": []
    },
    {
      "cell_type": "code",
      "metadata": {
        "id": "hR-Fd0FkOjv-",
        "colab_type": "code",
        "colab": {}
      },
      "source": [
        "train_dataset = dsets.MNIST(root='./data',\n",
        "                           train=True,\n",
        "                           transform=transforms.ToTensor(),\n",
        "                           download=True)\n",
        "test_dataset = dsets.MNIST(root='./data',\n",
        "                           train=False,\n",
        "                           transform=transforms.ToTensor())"
      ],
      "execution_count": 0,
      "outputs": []
    },
    {
      "cell_type": "code",
      "metadata": {
        "id": "6MrFCQMkO5ud",
        "colab_type": "code",
        "outputId": "dbcdac18-1ae5-4144-fd00-d7f6304dba03",
        "colab": {
          "base_uri": "https://localhost:8080/",
          "height": 35
        }
      },
      "source": [
        "print(train_dataset.data.size())"
      ],
      "execution_count": 0,
      "outputs": [
        {
          "output_type": "stream",
          "text": [
            "torch.Size([60000, 28, 28])\n"
          ],
          "name": "stdout"
        }
      ]
    },
    {
      "cell_type": "code",
      "metadata": {
        "id": "qC7x90ztPG5-",
        "colab_type": "code",
        "outputId": "54e089f4-b217-4959-e242-77f4abe7aa72",
        "colab": {
          "base_uri": "https://localhost:8080/",
          "height": 35
        }
      },
      "source": [
        "print(train_dataset.targets.size())"
      ],
      "execution_count": 0,
      "outputs": [
        {
          "output_type": "stream",
          "text": [
            "torch.Size([60000])\n"
          ],
          "name": "stdout"
        }
      ]
    },
    {
      "cell_type": "code",
      "metadata": {
        "id": "pwjlQlsyPQIp",
        "colab_type": "code",
        "outputId": "4d229b67-267e-4813-fa00-a62f370f5112",
        "colab": {
          "base_uri": "https://localhost:8080/",
          "height": 35
        }
      },
      "source": [
        "print(test_dataset.data.size())"
      ],
      "execution_count": 0,
      "outputs": [
        {
          "output_type": "stream",
          "text": [
            "torch.Size([10000, 28, 28])\n"
          ],
          "name": "stdout"
        }
      ]
    },
    {
      "cell_type": "code",
      "metadata": {
        "id": "zBRFtJ9cPTAo",
        "colab_type": "code",
        "outputId": "45bd0cb7-97e2-4899-b199-20e27ff7bade",
        "colab": {
          "base_uri": "https://localhost:8080/",
          "height": 35
        }
      },
      "source": [
        "print(test_dataset.targets.size())"
      ],
      "execution_count": 0,
      "outputs": [
        {
          "output_type": "stream",
          "text": [
            "torch.Size([10000])\n"
          ],
          "name": "stdout"
        }
      ]
    },
    {
      "cell_type": "code",
      "metadata": {
        "id": "ejIWdQtZPjrA",
        "colab_type": "code",
        "colab": {}
      },
      "source": [
        "batch_size = 100\n",
        "n_iters = 3000\n",
        "num_epochs = n_iters/(len(train_dataset)/batch_size)\n",
        "num_epochs = int(num_epochs)\n",
        "\n",
        "train_loader = torch.utils.data.DataLoader(dataset=train_dataset, batch_size=batch_size, shuffle=True)\n",
        "test_loader = torch.utils.data.DataLoader(dataset=test_dataset, batch_size=batch_size, shuffle=False)"
      ],
      "execution_count": 0,
      "outputs": []
    },
    {
      "cell_type": "code",
      "metadata": {
        "id": "XNN-z2beQHH6",
        "colab_type": "code",
        "colab": {}
      },
      "source": [
        "class CNNModel(nn.Module):\n",
        "  def __init__(self):\n",
        "    super(CNNModel, self).__init__()\n",
        "    \n",
        "    # Convolution 1\n",
        "    # in_channels is 1 because its a single grayscale image; out_channels=16 means 16 feature maps\n",
        "    self.cnn1 = nn.Conv2d(in_channels=1, out_channels=16, kernel_size=5, stride=1, padding=2)\n",
        "    self.relu1 = nn.ReLU()\n",
        "    \n",
        "    # Max pool 1\n",
        "    self.maxpool1 = nn.MaxPool2d(kernel_size=2)\n",
        "    \n",
        "    # Convolution 2\n",
        "    self.cnn2 = nn.Conv2d(in_channels=16, out_channels=32, kernel_size=5, stride=1, padding=2)\n",
        "    self.relu2 = nn.ReLU()\n",
        "    \n",
        "    # Max pool 2\n",
        "    self.maxpool2 = nn.MaxPool2d(kernel_size=2)\n",
        "    \n",
        "    # Fully-connected layer\n",
        "    self.fc1 = nn.Linear(32 * 7 * 7,10)\n",
        "    \n",
        "    \n",
        "  def forward(self, x):\n",
        "    # Convolution 1\n",
        "    out = self.cnn1(x)\n",
        "    out = self.relu1(out)\n",
        "    \n",
        "    # Max pool 1\n",
        "    out = self.maxpool1(out)\n",
        "    \n",
        "    # Convolution 2\n",
        "    out = self.cnn2(out)\n",
        "    out = self.relu2(out)\n",
        "    \n",
        "    # Max pool 2\n",
        "    out = self.maxpool2(out)\n",
        "    \n",
        "    # Resize\n",
        "    # Original size: (100, 32, 7, 7)\n",
        "    # out.size(0): 100\n",
        "    # New out size: (100, 32 * 7 * 7)\n",
        "    \n",
        "    out = out.view(out.size(0), -1)\n",
        "    \n",
        "    # Linear function (readout)\n",
        "    out = self.fc1(out)\n",
        "    \n",
        "    return out\n",
        "  \n",
        "model = CNNModel()\n",
        "criterion = nn.CrossEntropyLoss()\n",
        "\n",
        "learning_rate = 0.01\n",
        "\n",
        "optimizer = torch.optim.SGD(model.parameters(), lr=learning_rate)"
      ],
      "execution_count": 0,
      "outputs": []
    },
    {
      "cell_type": "code",
      "metadata": {
        "id": "5_B3b_7lqeCX",
        "colab_type": "code",
        "outputId": "5755ff40-bf37-451f-a6e8-ee66fbd833e1",
        "colab": {
          "base_uri": "https://localhost:8080/",
          "height": 158
        }
      },
      "source": [
        "print(model.parameters())\n",
        "print(len(list(model.parameters())))\n",
        "\n",
        "print(list(model.parameters())[0].size())\n",
        "print(list(model.parameters())[1].size())\n",
        "print(list(model.parameters())[2].size())\n",
        "print(list(model.parameters())[3].size())\n",
        "print(list(model.parameters())[4].size())\n",
        "print(list(model.parameters())[5].size())"
      ],
      "execution_count": 0,
      "outputs": [
        {
          "output_type": "stream",
          "text": [
            "<generator object Module.parameters at 0x7fc77cbf7a40>\n",
            "6\n",
            "torch.Size([16, 1, 5, 5])\n",
            "torch.Size([16])\n",
            "torch.Size([32, 16, 5, 5])\n",
            "torch.Size([32])\n",
            "torch.Size([10, 1568])\n",
            "torch.Size([10])\n"
          ],
          "name": "stdout"
        }
      ]
    },
    {
      "cell_type": "code",
      "metadata": {
        "id": "U-FP4Qy4sWDk",
        "colab_type": "code",
        "outputId": "66ccbbc7-9398-4b30-e6e3-eb5af7abff6e",
        "colab": {
          "base_uri": "https://localhost:8080/",
          "height": 123
        }
      },
      "source": [
        "# Training the model\n",
        "iter = 0\n",
        "for epoch in range(num_epochs):\n",
        "  for i, (images, labels) in enumerate(train_loader):\n",
        "    # Load images as Variable\n",
        "    images = Variable(images)\n",
        "    labels = Variable(labels)\n",
        "    \n",
        "    # Clear gradients w.r.t params\n",
        "    optimizer.zero_grad()\n",
        "    \n",
        "    # Forward pass to get output\n",
        "    outputs = model(images)\n",
        "    \n",
        "    # Calculate loss\n",
        "    loss = criterion(outputs, labels)\n",
        "    \n",
        "    # Get gradients w.r.t params\n",
        "    loss.backward()\n",
        "    \n",
        "    # Update params\n",
        "    optimizer.step()\n",
        "    \n",
        "    iter+=1\n",
        "    \n",
        "    if iter%500 == 0:\n",
        "      # Calculate Accuracy (every 500 iterations)\n",
        "      correct = 0\n",
        "      total = 0\n",
        "      \n",
        "      # Iterate through the test dataset\n",
        "      for images, labels in test_loader:\n",
        "        # Load images into a torch Variable\n",
        "        images = Variable(images)\n",
        "        \n",
        "        # Forward pass only to get output\n",
        "        outputs = model(images)\n",
        "        \n",
        "        # Get predictions from the maximum value\n",
        "        _, predicted = torch.max(outputs.data, 1)\n",
        "        \n",
        "        # Total nuber of labels\n",
        "        total += labels.size(0)\n",
        "        \n",
        "        # Total correct predictions\n",
        "        correct += (predicted == labels).sum()\n",
        "        \n",
        "      accuracy = 100 * correct/total\n",
        "    \n",
        "      # Print Loss\n",
        "      print('Iteration:{}. Loss:{}. Accuracy: {}.'.format(iter, loss.item(), accuracy))"
      ],
      "execution_count": 0,
      "outputs": [
        {
          "output_type": "stream",
          "text": [
            "Iteration:500. Loss:0.24468038976192474. Accuracy: 90.\n",
            "Iteration:1000. Loss:0.2804596424102783. Accuracy: 91.\n",
            "Iteration:1500. Loss:0.1128520742058754. Accuracy: 94.\n",
            "Iteration:2000. Loss:0.2720423638820648. Accuracy: 95.\n",
            "Iteration:2500. Loss:0.08201614022254944. Accuracy: 96.\n",
            "Iteration:3000. Loss:0.04539855942130089. Accuracy: 96.\n"
          ],
          "name": "stdout"
        }
      ]
    }
  ]
}