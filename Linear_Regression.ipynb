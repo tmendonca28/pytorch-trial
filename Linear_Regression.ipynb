{
  "nbformat": 4,
  "nbformat_minor": 0,
  "metadata": {
    "colab": {
      "name": "Linear_Regression.ipynb",
      "version": "0.3.2",
      "provenance": [],
      "include_colab_link": true
    },
    "kernelspec": {
      "name": "python3",
      "display_name": "Python 3"
    }
  },
  "cells": [
    {
      "cell_type": "markdown",
      "metadata": {
        "id": "view-in-github",
        "colab_type": "text"
      },
      "source": [
        "<a href=\"https://colab.research.google.com/github/tmendonca28/pytorch-trial/blob/master/Linear_Regression.ipynb\" target=\"_parent\"><img src=\"https://colab.research.google.com/assets/colab-badge.svg\" alt=\"Open In Colab\"/></a>"
      ]
    },
    {
      "cell_type": "markdown",
      "metadata": {
        "id": "cBDZgNJ-MyRX",
        "colab_type": "text"
      },
      "source": [
        "# Simple Linear Regression Basics\n",
        "* Allows us to understand the rship between 2 continuous variables\n",
        "* A good example is the y = mx+c equation"
      ]
    },
    {
      "cell_type": "code",
      "metadata": {
        "id": "VqzGRrKTMp3r",
        "colab_type": "code",
        "colab": {
          "base_uri": "https://localhost:8080/",
          "height": 269
        },
        "outputId": "87ace9ca-3bdb-4589-fbfa-db9effac2cc8"
      },
      "source": [
        "import numpy as np\n",
        "import matplotlib.pyplot as plt\n",
        "\n",
        "np.random.seed(1)\n",
        "n = 50\n",
        "x = np.random.randn(n)\n",
        "y = x * np.random.randn(n)\n",
        "\n",
        "colors = np.random.randn(n)\n",
        "plt.plot(np.unique(x), np.poly1d(np.polyfit(x, y, 1))(np.unique(x)))\n",
        "\n",
        "plt.scatter(x, y, c=colors, alpha=0.5)\n",
        "plt.show()"
      ],
      "execution_count": 45,
      "outputs": [
        {
          "output_type": "display_data",
          "data": {
            "image/png": "[encoded data removed]",
            "text/plain": [
              "<Figure size 432x288 with 1 Axes>"
            ]
          },
          "metadata": {
            "tags": []
          }
        }
      ]
    },
    {
      "cell_type": "markdown",
      "metadata": {
        "id": "cEAqxhTePNuZ",
        "colab_type": "text"
      },
      "source": [
        "Aim of linear regression is to minimize the distance between the points and the line.\n",
        "We can adjust the coefficient and the intercept/bias (m and c respectively)"
      ]
    },
    {
      "cell_type": "markdown",
      "metadata": {
        "id": "JQpBgYqbPrsk",
        "colab_type": "text"
      },
      "source": [
        "# Building a Linear Regression Model with PyTorch\n",
        "* Coeff = 2\n",
        "* Intercept = 1\n",
        "* Equation: y = 2x + 1\n",
        "\n",
        "## Building a Toy Dataset"
      ]
    },
    {
      "cell_type": "code",
      "metadata": {
        "id": "qd-RKtTWPNGW",
        "colab_type": "code",
        "colab": {}
      },
      "source": [
        "# making a list from 0 - 10\n",
        "x_values = [i for i in range(11)]"
      ],
      "execution_count": 0,
      "outputs": []
    },
    {
      "cell_type": "code",
      "metadata": {
        "id": "bNq4WxjvQVVT",
        "colab_type": "code",
        "colab": {
          "base_uri": "https://localhost:8080/",
          "height": 35
        },
        "outputId": "3a6bc554-1448-4bc0-b03b-662e4a4ca8f5"
      },
      "source": [
        "# Converting to numpy array\n",
        "x_train = np.array(x_values, dtype=np.float32)\n",
        "x_train.shape"
      ],
      "execution_count": 47,
      "outputs": [
        {
          "output_type": "execute_result",
          "data": {
            "text/plain": [
              "(11,)"
            ]
          },
          "metadata": {
            "tags": []
          },
          "execution_count": 47
        }
      ]
    },
    {
      "cell_type": "code",
      "metadata": {
        "id": "gq0qqYLvQvMK",
        "colab_type": "code",
        "colab": {
          "base_uri": "https://localhost:8080/",
          "height": 35
        },
        "outputId": "16c8ef99-f5cc-483d-d89f-19e2baa2c31e"
      },
      "source": [
        "# IMPORTANT: 2D is required\n",
        "x_train = x_train.reshape(-1, 1)\n",
        "x_train.shape"
      ],
      "execution_count": 48,
      "outputs": [
        {
          "output_type": "execute_result",
          "data": {
            "text/plain": [
              "(11, 1)"
            ]
          },
          "metadata": {
            "tags": []
          },
          "execution_count": 48
        }
      ]
    },
    {
      "cell_type": "markdown",
      "metadata": {
        "id": "r-3bF9Q-RAUf",
        "colab_type": "text"
      },
      "source": [
        "y = 2x + 1"
      ]
    },
    {
      "cell_type": "code",
      "metadata": {
        "id": "Avwv5mpOQ6CF",
        "colab_type": "code",
        "colab": {
          "base_uri": "https://localhost:8080/",
          "height": 35
        },
        "outputId": "d58c2eab-ace9-4507-a217-1485886271c7"
      },
      "source": [
        "y_values = [2*i+1 for i in x_values]\n",
        "y_values"
      ],
      "execution_count": 49,
      "outputs": [
        {
          "output_type": "execute_result",
          "data": {
            "text/plain": [
              "[1, 3, 5, 7, 9, 11, 13, 15, 17, 19, 21]"
            ]
          },
          "metadata": {
            "tags": []
          },
          "execution_count": 49
        }
      ]
    },
    {
      "cell_type": "code",
      "metadata": {
        "id": "9DHdGhZ-RQve",
        "colab_type": "code",
        "colab": {
          "base_uri": "https://localhost:8080/",
          "height": 35
        },
        "outputId": "68cd2930-0b21-4e83-ad02-0b1ee3c6aec0"
      },
      "source": [
        "# Converting to numpy\n",
        "y_train = np.array(y_values, dtype=np.float32)\n",
        "y_train = y_train.reshape(-1, 1)\n",
        "y_train.shape"
      ],
      "execution_count": 50,
      "outputs": [
        {
          "output_type": "execute_result",
          "data": {
            "text/plain": [
              "(11, 1)"
            ]
          },
          "metadata": {
            "tags": []
          },
          "execution_count": 50
        }
      ]
    },
    {
      "cell_type": "markdown",
      "metadata": {
        "id": "L8f2t9kwR7gL",
        "colab_type": "text"
      },
      "source": [
        "# Building Model"
      ]
    },
    {
      "cell_type": "code",
      "metadata": {
        "id": "xQGmy_JyR41x",
        "colab_type": "code",
        "colab": {}
      },
      "source": [
        "import torch\n",
        "import torch.nn as nn\n",
        "from torch.autograd import Variable"
      ],
      "execution_count": 0,
      "outputs": []
    },
    {
      "cell_type": "markdown",
      "metadata": {
        "id": "JgJbrzK9SGVP",
        "colab_type": "text"
      },
      "source": [
        "**Create Model**\n",
        "\n",
        "\n",
        "1.   Linear model\n",
        "  * True equation: y = 2x+1\n",
        "2.   Forward\n",
        "  * Input x and output new y\n",
        "\n"
      ]
    },
    {
      "cell_type": "code",
      "metadata": {
        "id": "rsigAInhSe8B",
        "colab_type": "code",
        "colab": {}
      },
      "source": [
        "# Create class\n",
        "class LinearRegressionModel (nn.Module):\n",
        "  def __init__ (self, input_size, output_size):\n",
        "    super(LinearRegressionModel, self).__init__()\n",
        "    self.linear = nn.Linear(input_size, output_size)\n",
        "    \n",
        "  def forward(self, x):\n",
        "    out = self.linear(x)\n",
        "    return out"
      ],
      "execution_count": 0,
      "outputs": []
    },
    {
      "cell_type": "code",
      "metadata": {
        "id": "u-vB8S32SnOz",
        "colab_type": "code",
        "colab": {}
      },
      "source": [
        "# Instantiate Model class\n",
        "input_dim = 1\n",
        "output_dim = 1\n",
        "\n",
        "model = LinearRegressionModel(input_dim, output_dim)"
      ],
      "execution_count": 0,
      "outputs": []
    },
    {
      "cell_type": "code",
      "metadata": {
        "id": "aQS4rXj6Tzv9",
        "colab_type": "code",
        "colab": {}
      },
      "source": [
        "# Instantiate Loss class (p-t)\n",
        "criterion = nn.MSELoss()"
      ],
      "execution_count": 0,
      "outputs": []
    },
    {
      "cell_type": "code",
      "metadata": {
        "id": "W03Ov4xAT81Z",
        "colab_type": "code",
        "colab": {}
      },
      "source": [
        "# Instantiate Optimizer class\n",
        "# parameters = parameters - learning_rate * parameters_gradients\n",
        "learning_rate = 0.01\n",
        "\n",
        "optimizer = torch.optim.SGD(model.parameters(), lr=learning_rate)"
      ],
      "execution_count": 0,
      "outputs": []
    },
    {
      "cell_type": "code",
      "metadata": {
        "id": "T1oIIksDfsTN",
        "colab_type": "code",
        "colab": {
          "base_uri": "https://localhost:8080/",
          "height": 1000
        },
        "outputId": "efca1802-7437-49e5-f999-5f5b16bf6e9b"
      },
      "source": [
        "# 1 epoch means going through the whole train data once\n",
        "epochs = 100\n",
        "\n",
        "for epoch in range(epochs):\n",
        "  epoch +=1\n",
        "  # Convert numpy array to torch variable\n",
        "  inputs = Variable(torch.from_numpy(x_train))\n",
        "  labels = Variable(torch.from_numpy(y_train))\n",
        "  \n",
        "  # Clear gradients w.r.t parameters\n",
        "  optimizer.zero_grad()\n",
        "  \n",
        "  # Pass it through the forward to get outputs\n",
        "  outputs = model(inputs)\n",
        "  \n",
        "  # Calculate loss\n",
        "  loss = criterion(outputs, labels)\n",
        "  \n",
        "  # Getting gradients w.r.t parameters\n",
        "  loss.backward()\n",
        "  \n",
        "  # Updating parameters\n",
        "  optimizer.step()\n",
        "  \n",
        "  print('epoch {}, loss {}'.format(epoch, loss.item()))"
      ],
      "execution_count": 56,
      "outputs": [
        {
          "output_type": "stream",
          "text": [
            "epoch 1, loss 264.0016174316406\n",
            "epoch 2, loss 21.606067657470703\n",
            "epoch 3, loss 1.8338279724121094\n",
            "epoch 4, loss 0.22026962041854858\n",
            "epoch 5, loss 0.08786775171756744\n",
            "epoch 6, loss 0.07628728449344635\n",
            "epoch 7, loss 0.07457096129655838\n",
            "epoch 8, loss 0.07366766035556793\n",
            "epoch 9, loss 0.07283923029899597\n",
            "epoch 10, loss 0.07202542573213577\n",
            "epoch 11, loss 0.0712210088968277\n",
            "epoch 12, loss 0.07042593508958817\n",
            "epoch 13, loss 0.0696394145488739\n",
            "epoch 14, loss 0.06886174529790878\n",
            "epoch 15, loss 0.06809274852275848\n",
            "epoch 16, loss 0.06733240187168121\n",
            "epoch 17, loss 0.06658049672842026\n",
            "epoch 18, loss 0.06583699584007263\n",
            "epoch 19, loss 0.06510186195373535\n",
            "epoch 20, loss 0.06437480449676514\n",
            "epoch 21, loss 0.06365600973367691\n",
            "epoch 22, loss 0.06294512748718262\n",
            "epoch 23, loss 0.06224219501018524\n",
            "epoch 24, loss 0.06154720485210419\n",
            "epoch 25, loss 0.060859858989715576\n",
            "epoch 26, loss 0.060180243104696274\n",
            "epoch 27, loss 0.05950825288891792\n",
            "epoch 28, loss 0.05884378030896187\n",
            "epoch 29, loss 0.05818667635321617\n",
            "epoch 30, loss 0.0575367696583271\n",
            "epoch 31, loss 0.05689442530274391\n",
            "epoch 32, loss 0.056259047240018845\n",
            "epoch 33, loss 0.055630769580602646\n",
            "epoch 34, loss 0.05500956252217293\n",
            "epoch 35, loss 0.05439526215195656\n",
            "epoch 36, loss 0.053787894546985626\n",
            "epoch 37, loss 0.05318727344274521\n",
            "epoch 38, loss 0.05259332433342934\n",
            "epoch 39, loss 0.05200592055916786\n",
            "epoch 40, loss 0.0514252632856369\n",
            "epoch 41, loss 0.050851017236709595\n",
            "epoch 42, loss 0.05028305575251579\n",
            "epoch 43, loss 0.049721598625183105\n",
            "epoch 44, loss 0.04916636273264885\n",
            "epoch 45, loss 0.04861730337142944\n",
            "epoch 46, loss 0.04807441681623459\n",
            "epoch 47, loss 0.04753763601183891\n",
            "epoch 48, loss 0.04700674116611481\n",
            "epoch 49, loss 0.0464819110929966\n",
            "epoch 50, loss 0.04596284031867981\n",
            "epoch 51, loss 0.04544954374432564\n",
            "epoch 52, loss 0.04494200274348259\n",
            "epoch 53, loss 0.044440120458602905\n",
            "epoch 54, loss 0.04394396394491196\n",
            "epoch 55, loss 0.04345317929983139\n",
            "epoch 56, loss 0.04296783357858658\n",
            "epoch 57, loss 0.04248817265033722\n",
            "epoch 58, loss 0.04201371595263481\n",
            "epoch 59, loss 0.04154444858431816\n",
            "epoch 60, loss 0.0410805270075798\n",
            "epoch 61, loss 0.04062192514538765\n",
            "epoch 62, loss 0.040168169885873795\n",
            "epoch 63, loss 0.039719682186841965\n",
            "epoch 64, loss 0.03927604481577873\n",
            "epoch 65, loss 0.03883756697177887\n",
            "epoch 66, loss 0.038403887301683426\n",
            "epoch 67, loss 0.037975020706653595\n",
            "epoch 68, loss 0.037550922483205795\n",
            "epoch 69, loss 0.03713159263134003\n",
            "epoch 70, loss 0.03671689331531525\n",
            "epoch 71, loss 0.03630697354674339\n",
            "epoch 72, loss 0.03590156137943268\n",
            "epoch 73, loss 0.03550070524215698\n",
            "epoch 74, loss 0.03510420024394989\n",
            "epoch 75, loss 0.03471220284700394\n",
            "epoch 76, loss 0.0343245267868042\n",
            "epoch 77, loss 0.03394131362438202\n",
            "epoch 78, loss 0.03356216102838516\n",
            "epoch 79, loss 0.03318741172552109\n",
            "epoch 80, loss 0.03281683102250099\n",
            "epoch 81, loss 0.032450444996356964\n",
            "epoch 82, loss 0.0320880152285099\n",
            "epoch 83, loss 0.03172973915934563\n",
            "epoch 84, loss 0.03137540817260742\n",
            "epoch 85, loss 0.03102496638894081\n",
            "epoch 86, loss 0.030678583309054375\n",
            "epoch 87, loss 0.03033599629998207\n",
            "epoch 88, loss 0.0299972090870142\n",
            "epoch 89, loss 0.029662245884537697\n",
            "epoch 90, loss 0.029330970719456673\n",
            "epoch 91, loss 0.029003450646996498\n",
            "epoch 92, loss 0.028679614886641502\n",
            "epoch 93, loss 0.02835935913026333\n",
            "epoch 94, loss 0.028042608872056007\n",
            "epoch 95, loss 0.02772947959601879\n",
            "epoch 96, loss 0.027419831603765488\n",
            "epoch 97, loss 0.027113713324069977\n",
            "epoch 98, loss 0.02681085653603077\n",
            "epoch 99, loss 0.026511460542678833\n",
            "epoch 100, loss 0.026215393096208572\n"
          ],
          "name": "stdout"
        }
      ]
    }
  ]
}