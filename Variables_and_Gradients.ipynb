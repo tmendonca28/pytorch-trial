{
  "nbformat": 4,
  "nbformat_minor": 0,
  "metadata": {
    "colab": {
      "name": "Variables_and_Gradients.ipynb",
      "version": "0.3.2",
      "provenance": [],
      "include_colab_link": true
    },
    "kernelspec": {
      "name": "python3",
      "display_name": "Python 3"
    }
  },
  "cells": [
    {
      "cell_type": "markdown",
      "metadata": {
        "id": "view-in-github",
        "colab_type": "text"
      },
      "source": [
        "<a href=\"https://colab.research.google.com/github/tmendonca28/pytorch-trial/blob/master/Variables_and_Gradients.ipynb\" target=\"_parent\"><img src=\"https://colab.research.google.com/assets/colab-badge.svg\" alt=\"Open In Colab\"/></a>"
      ]
    },
    {
      "cell_type": "markdown",
      "metadata": {
        "id": "YdARLcj1heqj",
        "colab_type": "text"
      },
      "source": [
        "# Variables\n",
        "\n",
        "\n",
        "*   Variables are used to wrap a Tensor\n",
        "*   Allows accumulation of gradients; main difference between a Variable and Tensor\n",
        "\n"
      ]
    },
    {
      "cell_type": "code",
      "metadata": {
        "id": "Lbe7S1dQhS4S",
        "colab_type": "code",
        "colab": {}
      },
      "source": [
        "import torch\n",
        "from torch.autograd import Variable"
      ],
      "execution_count": 0,
      "outputs": []
    },
    {
      "cell_type": "code",
      "metadata": {
        "id": "n2tK53Q5hy5R",
        "colab_type": "code",
        "colab": {
          "base_uri": "https://localhost:8080/",
          "height": 52
        },
        "outputId": "49a248cd-e2b6-4675-cbc1-c6775039648f"
      },
      "source": [
        "a = Variable(torch.ones(2, 2), requires_grad=True)\n",
        "a"
      ],
      "execution_count": 6,
      "outputs": [
        {
          "output_type": "execute_result",
          "data": {
            "text/plain": [
              "tensor([[1., 1.],\n",
              "        [1., 1.]], requires_grad=True)"
            ]
          },
          "metadata": {
            "tags": []
          },
          "execution_count": 6
        }
      ]
    },
    {
      "cell_type": "code",
      "metadata": {
        "id": "fW1VIREWiOW-",
        "colab_type": "code",
        "colab": {
          "base_uri": "https://localhost:8080/",
          "height": 52
        },
        "outputId": "b9560ef0-7759-4ff7-a2bf-71329e4a52b2"
      },
      "source": [
        "# Not a variable\n",
        "torch.ones(2, 2)"
      ],
      "execution_count": 8,
      "outputs": [
        {
          "output_type": "execute_result",
          "data": {
            "text/plain": [
              "tensor([[1., 1.],\n",
              "        [1., 1.]])"
            ]
          },
          "metadata": {
            "tags": []
          },
          "execution_count": 8
        }
      ]
    },
    {
      "cell_type": "code",
      "metadata": {
        "id": "uCS-Wz4-iZx8",
        "colab_type": "code",
        "colab": {
          "base_uri": "https://localhost:8080/",
          "height": 52
        },
        "outputId": "2f9aa477-8ce2-4186-c448-b7f252333640"
      },
      "source": [
        "# Notice that a variable behaves quite similar to a tensor\n",
        "b = Variable(torch.ones(2, 2), requires_grad=True)\n",
        "b"
      ],
      "execution_count": 10,
      "outputs": [
        {
          "output_type": "execute_result",
          "data": {
            "text/plain": [
              "tensor([[1., 1.],\n",
              "        [1., 1.]], requires_grad=True)"
            ]
          },
          "metadata": {
            "tags": []
          },
          "execution_count": 10
        }
      ]
    },
    {
      "cell_type": "code",
      "metadata": {
        "id": "SuiptBPJin2o",
        "colab_type": "code",
        "colab": {
          "base_uri": "https://localhost:8080/",
          "height": 87
        },
        "outputId": "387d3885-36ba-43bd-b11b-878680f51585"
      },
      "source": [
        "print(a + b)\n",
        "print(torch.add(a, b))"
      ],
      "execution_count": 11,
      "outputs": [
        {
          "output_type": "stream",
          "text": [
            "tensor([[2., 2.],\n",
            "        [2., 2.]], grad_fn=<AddBackward0>)\n",
            "tensor([[2., 2.],\n",
            "        [2., 2.]], grad_fn=<AddBackward0>)\n"
          ],
          "name": "stdout"
        }
      ]
    },
    {
      "cell_type": "code",
      "metadata": {
        "id": "Cr80bEdUizCv",
        "colab_type": "code",
        "colab": {
          "base_uri": "https://localhost:8080/",
          "height": 87
        },
        "outputId": "92805469-c0f2-48a3-f713-0770425b4d17"
      },
      "source": [
        "print(a*b)\n",
        "print(torch.mul(a, b))"
      ],
      "execution_count": 12,
      "outputs": [
        {
          "output_type": "stream",
          "text": [
            "tensor([[1., 1.],\n",
            "        [1., 1.]], grad_fn=<MulBackward0>)\n",
            "tensor([[1., 1.],\n",
            "        [1., 1.]], grad_fn=<MulBackward0>)\n"
          ],
          "name": "stdout"
        }
      ]
    },
    {
      "cell_type": "markdown",
      "metadata": {
        "id": "K6CcLmCGjQm5",
        "colab_type": "text"
      },
      "source": [
        "# Gradients\n",
        "\n",
        "**What does requires_grad mean?**\n",
        "* It allows for the calculation of gradients w.r.t. the variable"
      ]
    },
    {
      "cell_type": "code",
      "metadata": {
        "id": "0iZ7DfDhjZBq",
        "colab_type": "code",
        "colab": {
          "base_uri": "https://localhost:8080/",
          "height": 35
        },
        "outputId": "d18ed694-0f8c-4c37-c7ee-bf6d3c1e489f"
      },
      "source": [
        "x = Variable(torch.ones(2), requires_grad=True)\n",
        "x"
      ],
      "execution_count": 15,
      "outputs": [
        {
          "output_type": "execute_result",
          "data": {
            "text/plain": [
              "tensor([1., 1.], requires_grad=True)"
            ]
          },
          "metadata": {
            "tags": []
          },
          "execution_count": 15
        }
      ]
    },
    {
      "cell_type": "code",
      "metadata": {
        "id": "pvWCdesTj2bP",
        "colab_type": "code",
        "colab": {
          "base_uri": "https://localhost:8080/",
          "height": 35
        },
        "outputId": "46337c86-c297-4773-9337-4f2b5429c210"
      },
      "source": [
        "y = 5 * (x+1)**2\n",
        "y"
      ],
      "execution_count": 16,
      "outputs": [
        {
          "output_type": "execute_result",
          "data": {
            "text/plain": [
              "tensor([20., 20.], grad_fn=<MulBackward0>)"
            ]
          },
          "metadata": {
            "tags": []
          },
          "execution_count": 16
        }
      ]
    },
    {
      "cell_type": "markdown",
      "metadata": {
        "id": "jeZG8H_fkm5f",
        "colab_type": "text"
      },
      "source": [
        "# Backward should only be called on a scalar (1-element tensor) or with gradient w.r.t the variable\n",
        "\n",
        "\n",
        "*   Reducing y to a scalar...\n"
      ]
    },
    {
      "cell_type": "code",
      "metadata": {
        "id": "xjqP2c9CkmYE",
        "colab_type": "code",
        "colab": {
          "base_uri": "https://localhost:8080/",
          "height": 35
        },
        "outputId": "c813210f-8da0-420c-dabb-a61ee6e32e64"
      },
      "source": [
        "o = (1/2) * torch.sum(y)\n",
        "o"
      ],
      "execution_count": 19,
      "outputs": [
        {
          "output_type": "execute_result",
          "data": {
            "text/plain": [
              "tensor(20., grad_fn=<MulBackward0>)"
            ]
          },
          "metadata": {
            "tags": []
          },
          "execution_count": 19
        }
      ]
    },
    {
      "cell_type": "code",
      "metadata": {
        "id": "inpEuUO4lhw2",
        "colab_type": "code",
        "colab": {
          "base_uri": "https://localhost:8080/",
          "height": 35
        },
        "outputId": "9421c76d-8b74-474b-ce83-f3362a770e54"
      },
      "source": [
        "# o.backward\n",
        "x.grad"
      ],
      "execution_count": 30,
      "outputs": [
        {
          "output_type": "execute_result",
          "data": {
            "text/plain": [
              "tensor([10., 10.])"
            ]
          },
          "metadata": {
            "tags": []
          },
          "execution_count": 30
        }
      ]
    }
  ]
}