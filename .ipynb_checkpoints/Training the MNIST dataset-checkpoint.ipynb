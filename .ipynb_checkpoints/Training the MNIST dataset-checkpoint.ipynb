{
 "cells": [
  {
   "cell_type": "code",
   "execution_count": 1,
   "metadata": {},
   "outputs": [],
   "source": [
    "import torch\n",
    "from torch import nn\n",
    "import torch.nn.functional as F\n",
    "from torchvision import datasets, transforms\n",
    "\n",
    "# Define a transform to normalize the data\n",
    "# Download and load the training data\n",
    "transform = transforms.Compose([transforms.ToTensor(), transforms.Normalize((0.5, ), (0.5, ))])\n",
    "\n",
    "trainset = datasets.MNIST('MNIST_data/', download=True, train=True, transform=transform)\n",
    "trainloader = torch.utils.data.DataLoader(trainset, batch_size=64, shuffle=True)"
   ]
  },
  {
   "cell_type": "code",
   "execution_count": 2,
   "metadata": {},
   "outputs": [
    {
     "name": "stdout",
     "output_type": "stream",
     "text": [
      "torch.Size([64, 1, 28, 28])\n",
      "torch.Size([64])\n",
      "torch.Size([64, 784])\n",
      "Logits shape:  torch.Size([64, 10])\n",
      "Labels shape:  torch.Size([64])\n",
      "tensor(2.3235, grad_fn=<NllLossBackward>)\n"
     ]
    }
   ],
   "source": [
    "# Building a feed-forward network\n",
    "model = nn.Sequential(nn.Linear(784, 128),\n",
    "                     nn.ReLU(),\n",
    "                     nn.Linear(128, 64),\n",
    "                     nn.ReLU(),\n",
    "                     nn.Linear(64, 10),\n",
    "                     nn.LogSoftmax(dim=1))\n",
    "# dim = 1 so it calc across the columns\n",
    "\n",
    "# Defining the loss\n",
    "# criterion = nn.CrossEntropyLoss()\n",
    "criterion = nn.NLLLoss()\n",
    "\n",
    "# Get the data\n",
    "images, labels = next(iter(trainloader))\n",
    "print(images.shape)\n",
    "print(labels.shape)\n",
    "# Need to flatten the images\n",
    "images = images.view(images.shape[0], -1)\n",
    "print(images.shape)\n",
    "\n",
    "# Forward pass to get logits; these are the scores from the output model\n",
    "logits = model(images)\n",
    "# Calculate the loss with the logits and the labels\n",
    "loss = criterion(logits, labels)\n",
    "\n",
    "print(\"Logits shape: \", logits.shape)\n",
    "print(\"Labels shape: \", labels.shape)\n",
    "\n",
    "print(loss)\n",
    "\n"
   ]
  },
  {
   "cell_type": "code",
   "execution_count": 3,
   "metadata": {},
   "outputs": [
    {
     "name": "stdout",
     "output_type": "stream",
     "text": [
      "tensor([[ 1.1224, -0.4068],\n",
      "        [ 0.4786,  0.9832]], requires_grad=True)\n"
     ]
    }
   ],
   "source": [
    "# Autograd does the backpropagation for us\n",
    "x = torch.randn(2,2, requires_grad=True)\n",
    "print (x)"
   ]
  },
  {
   "cell_type": "code",
   "execution_count": 4,
   "metadata": {},
   "outputs": [
    {
     "name": "stdout",
     "output_type": "stream",
     "text": [
      "tensor([[1.2599, 0.1655],\n",
      "        [0.2290, 0.9667]], grad_fn=<PowBackward0>)\n"
     ]
    }
   ],
   "source": [
    "y = x**2\n",
    "print (y)"
   ]
  },
  {
   "cell_type": "code",
   "execution_count": 5,
   "metadata": {},
   "outputs": [
    {
     "name": "stdout",
     "output_type": "stream",
     "text": [
      "<PowBackward0 object at 0x0000020A5E8FC2E8>\n"
     ]
    }
   ],
   "source": [
    "# grad_fn shows us the fn that generated this variable\n",
    "print(y.grad_fn)"
   ]
  },
  {
   "cell_type": "code",
   "execution_count": 6,
   "metadata": {},
   "outputs": [
    {
     "name": "stdout",
     "output_type": "stream",
     "text": [
      "tensor(0.6553, grad_fn=<MeanBackward1>)\n"
     ]
    }
   ],
   "source": [
    "# reducing the tensor y to a scalar value we can get the mean\n",
    "z = y.mean()\n",
    "print(z)"
   ]
  },
  {
   "cell_type": "code",
   "execution_count": 7,
   "metadata": {},
   "outputs": [
    {
     "name": "stdout",
     "output_type": "stream",
     "text": [
      "tensor([[ 0.5612, -0.2034],\n",
      "        [ 0.2393,  0.4916]])\n",
      "tensor([[ 0.5612, -0.2034],\n",
      "        [ 0.2393,  0.4916]], grad_fn=<DivBackward0>)\n"
     ]
    }
   ],
   "source": [
    "z.backward()\n",
    "print (x.grad)\n",
    "print (x/2)"
   ]
  },
  {
   "cell_type": "code",
   "execution_count": 8,
   "metadata": {},
   "outputs": [
    {
     "name": "stdout",
     "output_type": "stream",
     "text": [
      "Before backward pass: \n",
      " None\n",
      "After backward pass: \n",
      " tensor([[ 0.0010,  0.0010,  0.0010,  ...,  0.0010,  0.0010,  0.0010],\n",
      "        [-0.0018, -0.0018, -0.0018,  ..., -0.0018, -0.0018, -0.0018],\n",
      "        [-0.0014, -0.0014, -0.0014,  ..., -0.0014, -0.0014, -0.0014],\n",
      "        ...,\n",
      "        [ 0.0005,  0.0005,  0.0005,  ...,  0.0005,  0.0005,  0.0005],\n",
      "        [-0.0004, -0.0004, -0.0004,  ..., -0.0004, -0.0004, -0.0004],\n",
      "        [-0.0009, -0.0009, -0.0009,  ..., -0.0009, -0.0009, -0.0009]])\n"
     ]
    }
   ],
   "source": [
    "print ('Before backward pass: \\n', model[0].weight.grad)\n",
    "\n",
    "loss.backward()\n",
    "\n",
    "print ('After backward pass: \\n', model[0].weight.grad)"
   ]
  },
  {
   "cell_type": "code",
   "execution_count": 9,
   "metadata": {},
   "outputs": [],
   "source": [
    "from torch import optim\n",
    "\n",
    "# Optimizers require the parameters to optimize and a learning rate\n",
    "optimizer = optim.SGD(model.parameters(), lr = 0.01)"
   ]
  },
  {
   "cell_type": "code",
   "execution_count": 10,
   "metadata": {},
   "outputs": [
    {
     "name": "stdout",
     "output_type": "stream",
     "text": [
      "Initial weights -  Parameter containing:\n",
      "tensor([[ 0.0355, -0.0271, -0.0145,  ...,  0.0164,  0.0225,  0.0055],\n",
      "        [-0.0087, -0.0126, -0.0154,  ..., -0.0077,  0.0106, -0.0311],\n",
      "        [-0.0076, -0.0033,  0.0088,  ...,  0.0151,  0.0280,  0.0080],\n",
      "        ...,\n",
      "        [ 0.0260, -0.0325,  0.0052,  ..., -0.0205,  0.0089, -0.0218],\n",
      "        [ 0.0349, -0.0322, -0.0328,  ..., -0.0240, -0.0113,  0.0248],\n",
      "        [-0.0241,  0.0149,  0.0287,  ..., -0.0142, -0.0341,  0.0330]],\n",
      "       requires_grad=True)\n",
      "torch.Size([64, 1, 28, 28])\n",
      "torch.Size([64, 784])\n",
      "Gradient - tensor([[-0.0007, -0.0007, -0.0007,  ..., -0.0007, -0.0007, -0.0007],\n",
      "        [-0.0025, -0.0025, -0.0025,  ..., -0.0025, -0.0025, -0.0025],\n",
      "        [-0.0030, -0.0030, -0.0030,  ..., -0.0030, -0.0030, -0.0030],\n",
      "        ...,\n",
      "        [-0.0005, -0.0005, -0.0005,  ..., -0.0005, -0.0005, -0.0005],\n",
      "        [-0.0001, -0.0001, -0.0001,  ..., -0.0001, -0.0001, -0.0001],\n",
      "        [-0.0003, -0.0003, -0.0003,  ..., -0.0003, -0.0003, -0.0003]])\n",
      "Updated weights - Parameter containing:\n",
      "tensor([[ 0.0355, -0.0271, -0.0145,  ...,  0.0164,  0.0225,  0.0055],\n",
      "        [-0.0087, -0.0126, -0.0154,  ..., -0.0076,  0.0106, -0.0311],\n",
      "        [-0.0076, -0.0033,  0.0088,  ...,  0.0151,  0.0281,  0.0080],\n",
      "        ...,\n",
      "        [ 0.0260, -0.0325,  0.0052,  ..., -0.0205,  0.0089, -0.0218],\n",
      "        [ 0.0349, -0.0322, -0.0328,  ..., -0.0240, -0.0113,  0.0248],\n",
      "        [-0.0241,  0.0149,  0.0287,  ..., -0.0142, -0.0341,  0.0330]],\n",
      "       requires_grad=True)\n"
     ]
    }
   ],
   "source": [
    "# One training step in PyTorch has 4 diff steps\n",
    "\n",
    "# [1] First we make a forward pass thru the network\n",
    "\n",
    "# [2] Use the network output to calc loss\n",
    "\n",
    "# [3] Perform backward pass using loss.backward\n",
    "\n",
    "# [4] Make a step with optimizer to update the weights\n",
    "\n",
    "print ('Initial weights - ', model[0].weight)\n",
    "\n",
    "images, labels = next(iter(trainloader))\n",
    "print(images.shape)\n",
    "images.resize_(64, 784)\n",
    "print(images.shape)\n",
    "\n",
    "# Clear gradients since PT accumulates grads\n",
    "optimizer.zero_grad()\n",
    "\n",
    "# Forward pass, then backward pass then update weights\n",
    "output = model.forward(images)\n",
    "loss = criterion(output, labels)\n",
    "loss.backward()\n",
    "print ('Gradient -', model[0].weight.grad)\n",
    "\n",
    "# The update step\n",
    "optimizer.step()\n",
    "print('Updated weights -', model[0].weight)"
   ]
  },
  {
   "cell_type": "code",
   "execution_count": 11,
   "metadata": {},
   "outputs": [
    {
     "name": "stdout",
     "output_type": "stream",
     "text": [
      "Training loss: 2.216281074196545\n",
      "Training loss: 1.901894050747601\n",
      "Training loss: 1.396335139584694\n",
      "Training loss: 0.9812328819908313\n",
      "Training loss: 0.7553746165243039\n"
     ]
    }
   ],
   "source": [
    "######### Trying out a training of the dataset\n",
    "\n",
    "model = nn.Sequential(nn.Linear(784,128),\n",
    "                     nn.ReLU(),\n",
    "                     nn.Linear(128,64),\n",
    "                     nn.ReLU(),\n",
    "                     nn.Linear(64,10),\n",
    "                     nn.LogSoftmax(dim=1))\n",
    "\n",
    "criterion = nn.NLLLoss()\n",
    "optimizer = optim.SGD(model.parameters(), lr=0.001)\n",
    "\n",
    "epochs = 5\n",
    "for e in range(epochs):\n",
    "    running_loss = 0\n",
    "    for images, labels in trainloader:\n",
    "        # Flatten images into a 784 long vector\n",
    "        images = images.view(images.shape[0], -1)\n",
    "        \n",
    "        # Training pass\n",
    "        optimizer.zero_grad()\n",
    "        \n",
    "        output = model.forward(images)\n",
    "        loss = criterion(output, labels)\n",
    "        loss.backward()\n",
    "        optimizer.step()\n",
    "        \n",
    "        running_loss += loss.item()\n",
    "    else:\n",
    "        print(f\"Training loss: {running_loss/len(trainloader)}\")"
   ]
  },
  {
   "cell_type": "code",
   "execution_count": 13,
   "metadata": {},
   "outputs": [
    {
     "name": "stdout",
     "output_type": "stream",
     "text": [
      "torch.Size([1, 28, 28])\n",
      "torch.Size([1, 784])\n"
     ]
    },
    {
     "data": {
      "image/png": "[encoded data removed]",
      "text/plain": [
       "<Figure size 432x648 with 2 Axes>"
      ]
     },
     "metadata": {
      "needs_background": "light"
     },
     "output_type": "display_data"
    }
   ],
   "source": [
    "# We can now see the predictions of the network\n",
    "%matplotlib inline\n",
    "import helper\n",
    "\n",
    "images, labels = next(iter(trainloader))\n",
    "\n",
    "print(images[0].shape)\n",
    "img = images[0].view(1, 784)\n",
    "print(img.shape)\n",
    "\n",
    "# Turning off gradients to speed up\n",
    "with torch.no_grad():\n",
    "    logits = model.forward(img)\n",
    "    \n",
    "# output of the network are logits, need to take softmax for probabilities\n",
    "ps = F.softmax(logits, dim=1)\n",
    "helper.view_classify(img.view(1, 28, 28), ps)"
   ]
  }
 ],
 "metadata": {
  "kernelspec": {
   "display_name": "Python 3",
   "language": "python",
   "name": "python3"
  },
  "language_info": {
   "codemirror_mode": {
    "name": "ipython",
    "version": 3
   },
   "file_extension": ".py",
   "mimetype": "text/x-python",
   "name": "python",
   "nbconvert_exporter": "python",
   "pygments_lexer": "ipython3",
   "version": "3.6.2rc2"
  }
 },
 "nbformat": 4,
 "nbformat_minor": 2
}
