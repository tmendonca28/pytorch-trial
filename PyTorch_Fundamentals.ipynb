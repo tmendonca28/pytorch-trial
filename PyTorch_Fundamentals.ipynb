{
  "nbformat": 4,
  "nbformat_minor": 0,
  "metadata": {
    "colab": {
      "name": "PyTorch_Fundamentals.ipynb",
      "version": "0.3.2",
      "provenance": [],
      "collapsed_sections": [],
      "include_colab_link": true
    },
    "kernelspec": {
      "name": "python3",
      "display_name": "Python 3"
    }
  },
  "cells": [
    {
      "cell_type": "markdown",
      "metadata": {
        "id": "view-in-github",
        "colab_type": "text"
      },
      "source": [
        "<a href=\"https://colab.research.google.com/github/tmendonca28/pytorch-trial/blob/master/PyTorch_Fundamentals.ipynb\" target=\"_parent\"><img src=\"https://colab.research.google.com/assets/colab-badge.svg\" alt=\"Open In Colab\"/></a>"
      ]
    },
    {
      "cell_type": "code",
      "metadata": {
        "id": "4_I72tw3EWkd",
        "colab_type": "code",
        "colab": {}
      },
      "source": [
        "import numpy as np"
      ],
      "execution_count": 0,
      "outputs": []
    },
    {
      "cell_type": "code",
      "metadata": {
        "id": "rPRQyS7GlrTW",
        "colab_type": "code",
        "outputId": "136af90d-363b-48f6-a73c-b223c78e0ef5",
        "colab": {
          "base_uri": "https://localhost:8080/",
          "height": 35
        }
      },
      "source": [
        "# Creating a 2D array\n",
        "arr = [[1, 2], [3, 4]]\n",
        "print(arr)"
      ],
      "execution_count": 3,
      "outputs": [
        {
          "output_type": "stream",
          "text": [
            "[[1, 2], [3, 4]]\n"
          ],
          "name": "stdout"
        }
      ]
    },
    {
      "cell_type": "code",
      "metadata": {
        "id": "Y9X2ZhOil2Tz",
        "colab_type": "code",
        "outputId": "b8c030af-46a9-4b12-debc-ad92ee61d19a",
        "colab": {
          "base_uri": "https://localhost:8080/",
          "height": 52
        }
      },
      "source": [
        "# Converting the array to NumPy\n",
        "np.array(arr)"
      ],
      "execution_count": 4,
      "outputs": [
        {
          "output_type": "execute_result",
          "data": {
            "text/plain": [
              "array([[1, 2],\n",
              "       [3, 4]])"
            ]
          },
          "metadata": {
            "tags": []
          },
          "execution_count": 4
        }
      ]
    },
    {
      "cell_type": "code",
      "metadata": {
        "id": "aTnlnR40mEk4",
        "colab_type": "code",
        "colab": {}
      },
      "source": [
        "import torch"
      ],
      "execution_count": 0,
      "outputs": []
    },
    {
      "cell_type": "code",
      "metadata": {
        "id": "A5F44BWWmLfl",
        "colab_type": "code",
        "outputId": "9c31fc46-ddff-49be-d893-daa1a2e3a702",
        "colab": {
          "base_uri": "https://localhost:8080/",
          "height": 52
        }
      },
      "source": [
        "torch.Tensor(arr)"
      ],
      "execution_count": 6,
      "outputs": [
        {
          "output_type": "execute_result",
          "data": {
            "text/plain": [
              "tensor([[1., 2.],\n",
              "        [3., 4.]])"
            ]
          },
          "metadata": {
            "tags": []
          },
          "execution_count": 6
        }
      ]
    },
    {
      "cell_type": "code",
      "metadata": {
        "id": "BW5M1CQPmjQX",
        "colab_type": "code",
        "outputId": "47d01f4b-2866-4bef-8eda-610999c18199",
        "colab": {
          "base_uri": "https://localhost:8080/",
          "height": 52
        }
      },
      "source": [
        "np.ones((2, 2))"
      ],
      "execution_count": 7,
      "outputs": [
        {
          "output_type": "execute_result",
          "data": {
            "text/plain": [
              "array([[1., 1.],\n",
              "       [1., 1.]])"
            ]
          },
          "metadata": {
            "tags": []
          },
          "execution_count": 7
        }
      ]
    },
    {
      "cell_type": "code",
      "metadata": {
        "id": "QAEwykftmqul",
        "colab_type": "code",
        "outputId": "14ae7f6f-81fc-4937-abb3-a81d0fb189f4",
        "colab": {
          "base_uri": "https://localhost:8080/",
          "height": 52
        }
      },
      "source": [
        "torch.ones((2, 2))"
      ],
      "execution_count": 8,
      "outputs": [
        {
          "output_type": "execute_result",
          "data": {
            "text/plain": [
              "tensor([[1., 1.],\n",
              "        [1., 1.]])"
            ]
          },
          "metadata": {
            "tags": []
          },
          "execution_count": 8
        }
      ]
    },
    {
      "cell_type": "code",
      "metadata": {
        "id": "WPuZFyplmXwB",
        "colab_type": "code",
        "outputId": "16cf129a-04d6-4349-f78a-d396c44b0c80",
        "colab": {
          "base_uri": "https://localhost:8080/",
          "height": 52
        }
      },
      "source": [
        "np.random.rand(2, 2)"
      ],
      "execution_count": 9,
      "outputs": [
        {
          "output_type": "execute_result",
          "data": {
            "text/plain": [
              "array([[0.77211032, 0.4759773 ],\n",
              "       [0.80745397, 0.99166795]])"
            ]
          },
          "metadata": {
            "tags": []
          },
          "execution_count": 9
        }
      ]
    },
    {
      "cell_type": "code",
      "metadata": {
        "id": "t-e9HSj4mvFA",
        "colab_type": "code",
        "outputId": "248cbfaa-7dd7-4fdb-d99d-21bd787948be",
        "colab": {
          "base_uri": "https://localhost:8080/",
          "height": 52
        }
      },
      "source": [
        "torch.rand(2, 2)"
      ],
      "execution_count": 10,
      "outputs": [
        {
          "output_type": "execute_result",
          "data": {
            "text/plain": [
              "tensor([[0.7983, 0.5452],\n",
              "        [0.5207, 0.4981]])"
            ]
          },
          "metadata": {
            "tags": []
          },
          "execution_count": 10
        }
      ]
    },
    {
      "cell_type": "markdown",
      "metadata": {
        "id": "VgwEtsf3m_kf",
        "colab_type": "text"
      },
      "source": [
        "# **Seed for Reproducibility**"
      ]
    },
    {
      "cell_type": "code",
      "metadata": {
        "id": "RL3TqkdNnTQy",
        "colab_type": "code",
        "outputId": "e81a1c2d-bc19-44e0-efeb-b59c6c1c0d4b",
        "colab": {
          "base_uri": "https://localhost:8080/",
          "height": 52
        }
      },
      "source": [
        "# Seed\n",
        "np.random.seed(0)\n",
        "np.random.rand(2, 2)"
      ],
      "execution_count": 11,
      "outputs": [
        {
          "output_type": "execute_result",
          "data": {
            "text/plain": [
              "array([[0.5488135 , 0.71518937],\n",
              "       [0.60276338, 0.54488318]])"
            ]
          },
          "metadata": {
            "tags": []
          },
          "execution_count": 11
        }
      ]
    },
    {
      "cell_type": "code",
      "metadata": {
        "id": "xD6u5EpAnjj3",
        "colab_type": "code",
        "outputId": "a3ec391b-51a0-45e3-a136-e60788443fb8",
        "colab": {
          "base_uri": "https://localhost:8080/",
          "height": 52
        }
      },
      "source": [
        "np.random.seed(0)\n",
        "np.random.rand(2, 2)"
      ],
      "execution_count": 12,
      "outputs": [
        {
          "output_type": "execute_result",
          "data": {
            "text/plain": [
              "array([[0.5488135 , 0.71518937],\n",
              "       [0.60276338, 0.54488318]])"
            ]
          },
          "metadata": {
            "tags": []
          },
          "execution_count": 12
        }
      ]
    },
    {
      "cell_type": "markdown",
      "metadata": {
        "id": "kVlUFbf7np5B",
        "colab_type": "text"
      },
      "source": [
        " **Note we get the exact same numbers when seed is 0**"
      ]
    },
    {
      "cell_type": "code",
      "metadata": {
        "id": "A_KmXBugnztk",
        "colab_type": "code",
        "outputId": "af00ea38-4604-46a6-f469-27f795651185",
        "colab": {
          "base_uri": "https://localhost:8080/",
          "height": 52
        }
      },
      "source": [
        "# No seed\n",
        "np.random.rand(2, 2)"
      ],
      "execution_count": 13,
      "outputs": [
        {
          "output_type": "execute_result",
          "data": {
            "text/plain": [
              "array([[0.4236548 , 0.64589411],\n",
              "       [0.43758721, 0.891773  ]])"
            ]
          },
          "metadata": {
            "tags": []
          },
          "execution_count": 13
        }
      ]
    },
    {
      "cell_type": "code",
      "metadata": {
        "id": "2LBfapz1oDNT",
        "colab_type": "code",
        "outputId": "7f2aa8f0-363e-4a90-ad9e-7747da57ce99",
        "colab": {
          "base_uri": "https://localhost:8080/",
          "height": 52
        }
      },
      "source": [
        "np.random.rand(2, 2)"
      ],
      "execution_count": 14,
      "outputs": [
        {
          "output_type": "execute_result",
          "data": {
            "text/plain": [
              "array([[0.96366276, 0.38344152],\n",
              "       [0.79172504, 0.52889492]])"
            ]
          },
          "metadata": {
            "tags": []
          },
          "execution_count": 14
        }
      ]
    },
    {
      "cell_type": "code",
      "metadata": {
        "id": "QvQoGh4ioGjV",
        "colab_type": "code",
        "outputId": "2dfb5aef-6cb7-43b0-9fc6-650d47f9633d",
        "colab": {
          "base_uri": "https://localhost:8080/",
          "height": 52
        }
      },
      "source": [
        "# Torch seed\n",
        "torch.manual_seed(0)\n",
        "torch.rand(2, 2)"
      ],
      "execution_count": 15,
      "outputs": [
        {
          "output_type": "execute_result",
          "data": {
            "text/plain": [
              "tensor([[0.4963, 0.7682],\n",
              "        [0.0885, 0.1320]])"
            ]
          },
          "metadata": {
            "tags": []
          },
          "execution_count": 15
        }
      ]
    },
    {
      "cell_type": "code",
      "metadata": {
        "id": "54RtBmdhpSpj",
        "colab_type": "code",
        "outputId": "852b4955-7bad-4b69-e00c-b8356047b9b8",
        "colab": {
          "base_uri": "https://localhost:8080/",
          "height": 52
        }
      },
      "source": [
        "torch.manual_seed(0)\n",
        "torch.rand(2, 2)"
      ],
      "execution_count": 16,
      "outputs": [
        {
          "output_type": "execute_result",
          "data": {
            "text/plain": [
              "tensor([[0.4963, 0.7682],\n",
              "        [0.0885, 0.1320]])"
            ]
          },
          "metadata": {
            "tags": []
          },
          "execution_count": 16
        }
      ]
    },
    {
      "cell_type": "markdown",
      "metadata": {
        "id": "E8GC8n2ppbNx",
        "colab_type": "text"
      },
      "source": [
        "Reproducibility is important; It allows us to have the same representation and hence produce reproducible experiments.\n",
        "If we use a GPU we set the seed as follows:\n",
        "\n",
        "torch.cuda.manual_seed_all(0)\n",
        "\n",
        "# NumPy To Torch"
      ]
    },
    {
      "cell_type": "code",
      "metadata": {
        "id": "4JFUu7y6p7at",
        "colab_type": "code",
        "outputId": "a0092f9c-0cf5-479a-fe85-b51ea57253a1",
        "colab": {
          "base_uri": "https://localhost:8080/",
          "height": 52
        }
      },
      "source": [
        "# Numpy to torch\n",
        "np_array = np.ones((2, 2))\n",
        "print(np_array)"
      ],
      "execution_count": 17,
      "outputs": [
        {
          "output_type": "stream",
          "text": [
            "[[1. 1.]\n",
            " [1. 1.]]\n"
          ],
          "name": "stdout"
        }
      ]
    },
    {
      "cell_type": "code",
      "metadata": {
        "id": "skKSxGoeCp-i",
        "colab_type": "code",
        "outputId": "a1aea1f0-ee74-4cc6-80ee-419249331347",
        "colab": {
          "base_uri": "https://localhost:8080/",
          "height": 35
        }
      },
      "source": [
        "print(type(np_array))"
      ],
      "execution_count": 18,
      "outputs": [
        {
          "output_type": "stream",
          "text": [
            "<class 'numpy.ndarray'>\n"
          ],
          "name": "stdout"
        }
      ]
    },
    {
      "cell_type": "code",
      "metadata": {
        "id": "7gEZj4RfCuPY",
        "colab_type": "code",
        "outputId": "cc35fb87-7da0-496c-f806-a831e3505550",
        "colab": {
          "base_uri": "https://localhost:8080/",
          "height": 35
        }
      },
      "source": [
        "# Converting to torch tensor\n",
        "torch_tensor = torch.from_numpy(np_array)\n",
        "print(type(torch_tensor))"
      ],
      "execution_count": 19,
      "outputs": [
        {
          "output_type": "stream",
          "text": [
            "<class 'torch.Tensor'>\n"
          ],
          "name": "stdout"
        }
      ]
    },
    {
      "cell_type": "code",
      "metadata": {
        "id": "wOVqVvrsDBXW",
        "colab_type": "code",
        "outputId": "050e21d9-4779-482b-d937-83a473bb2878",
        "colab": {
          "base_uri": "https://localhost:8080/",
          "height": 52
        }
      },
      "source": [
        "np_array_new = np.ones((2, 2), dtype=np.int8)\n",
        "torch.from_numpy(np_array_new)"
      ],
      "execution_count": 20,
      "outputs": [
        {
          "output_type": "execute_result",
          "data": {
            "text/plain": [
              "tensor([[1, 1],\n",
              "        [1, 1]], dtype=torch.int8)"
            ]
          },
          "metadata": {
            "tags": []
          },
          "execution_count": 20
        }
      ]
    },
    {
      "cell_type": "markdown",
      "metadata": {
        "id": "XxqkXfqImS_2",
        "colab_type": "text"
      },
      "source": [
        "# Torch to Numpy"
      ]
    },
    {
      "cell_type": "code",
      "metadata": {
        "id": "7u1x6fkmmVra",
        "colab_type": "code",
        "outputId": "efb7a4d8-e496-4c23-b904-d3387af82f96",
        "colab": {
          "base_uri": "https://localhost:8080/",
          "height": 35
        }
      },
      "source": [
        "torch_tensor = torch.ones(2, 2)\n",
        "type(torch_tensor)"
      ],
      "execution_count": 21,
      "outputs": [
        {
          "output_type": "execute_result",
          "data": {
            "text/plain": [
              "torch.Tensor"
            ]
          },
          "metadata": {
            "tags": []
          },
          "execution_count": 21
        }
      ]
    },
    {
      "cell_type": "code",
      "metadata": {
        "id": "nwle1uECmrnJ",
        "colab_type": "code",
        "outputId": "d4b70b98-dee4-4266-9161-141821e748fd",
        "colab": {
          "base_uri": "https://localhost:8080/",
          "height": 35
        }
      },
      "source": [
        "torch_to_numpy = torch_tensor.numpy()\n",
        "type(torch_to_numpy)"
      ],
      "execution_count": 22,
      "outputs": [
        {
          "output_type": "execute_result",
          "data": {
            "text/plain": [
              "numpy.ndarray"
            ]
          },
          "metadata": {
            "tags": []
          },
          "execution_count": 22
        }
      ]
    },
    {
      "cell_type": "markdown",
      "metadata": {
        "id": "WgFO8a38nHIE",
        "colab_type": "text"
      },
      "source": [
        "# GPU and CPU toggling"
      ]
    },
    {
      "cell_type": "code",
      "metadata": {
        "id": "5MetOms4nJ54",
        "colab_type": "code",
        "colab": {}
      },
      "source": [
        "# CPU; by default\n",
        "tensor_cpu = torch.ones(2, 2)"
      ],
      "execution_count": 0,
      "outputs": []
    },
    {
      "cell_type": "code",
      "metadata": {
        "id": "Wzqooo-nnYmV",
        "colab_type": "code",
        "colab": {}
      },
      "source": [
        "# CPU to GPU\n",
        "if torch.cuda.is_available():\n",
        "  tensor_cpu.cuda()"
      ],
      "execution_count": 0,
      "outputs": []
    },
    {
      "cell_type": "code",
      "metadata": {
        "id": "f9GZD3EDnjWy",
        "colab_type": "code",
        "outputId": "ded7230a-eb5c-4e60-8885-3b54d2999dc4",
        "colab": {
          "base_uri": "https://localhost:8080/",
          "height": 52
        }
      },
      "source": [
        "# GPU to CPU\n",
        "tensor_cpu.cpu()"
      ],
      "execution_count": 25,
      "outputs": [
        {
          "output_type": "execute_result",
          "data": {
            "text/plain": [
              "tensor([[1., 1.],\n",
              "        [1., 1.]])"
            ]
          },
          "metadata": {
            "tags": []
          },
          "execution_count": 25
        }
      ]
    },
    {
      "cell_type": "markdown",
      "metadata": {
        "id": "P2yafLgwnuF_",
        "colab_type": "text"
      },
      "source": [
        "# Basic Math Tensor Operations"
      ]
    },
    {
      "cell_type": "markdown",
      "metadata": {
        "id": "BbBav7C6n3Y0",
        "colab_type": "text"
      },
      "source": [
        " **Resizing**"
      ]
    },
    {
      "cell_type": "code",
      "metadata": {
        "id": "OR9s10_3obKh",
        "colab_type": "code",
        "outputId": "6c009ac2-87d1-4473-ad1a-8f9bfa82941c",
        "colab": {
          "base_uri": "https://localhost:8080/",
          "height": 35
        }
      },
      "source": [
        "a = torch.ones(2, 2)\n",
        "print(a.size())"
      ],
      "execution_count": 26,
      "outputs": [
        {
          "output_type": "stream",
          "text": [
            "torch.Size([2, 2])\n"
          ],
          "name": "stdout"
        }
      ]
    },
    {
      "cell_type": "code",
      "metadata": {
        "id": "hkHZlujSoYxr",
        "colab_type": "code",
        "outputId": "08135fcc-598e-4569-c52f-95e63d603110",
        "colab": {
          "base_uri": "https://localhost:8080/",
          "height": 35
        }
      },
      "source": [
        "a.view(4)"
      ],
      "execution_count": 27,
      "outputs": [
        {
          "output_type": "execute_result",
          "data": {
            "text/plain": [
              "tensor([1., 1., 1., 1.])"
            ]
          },
          "metadata": {
            "tags": []
          },
          "execution_count": 27
        }
      ]
    },
    {
      "cell_type": "markdown",
      "metadata": {
        "id": "7uhXsATXo3hD",
        "colab_type": "text"
      },
      "source": [
        "**Element-wise addition**"
      ]
    },
    {
      "cell_type": "code",
      "metadata": {
        "id": "zqZVruSko8G8",
        "colab_type": "code",
        "outputId": "813af6e9-0097-4e70-98d0-06c0a27c0a97",
        "colab": {
          "base_uri": "https://localhost:8080/",
          "height": 52
        }
      },
      "source": [
        "a = torch.ones(2, 2)\n",
        "print(a)"
      ],
      "execution_count": 28,
      "outputs": [
        {
          "output_type": "stream",
          "text": [
            "tensor([[1., 1.],\n",
            "        [1., 1.]])\n"
          ],
          "name": "stdout"
        }
      ]
    },
    {
      "cell_type": "code",
      "metadata": {
        "id": "AHHO91_BpLKm",
        "colab_type": "code",
        "outputId": "53df2866-3bfb-4a59-a195-df35976dfb18",
        "colab": {
          "base_uri": "https://localhost:8080/",
          "height": 52
        }
      },
      "source": [
        "b = torch.ones(2, 2)\n",
        "print(b)"
      ],
      "execution_count": 29,
      "outputs": [
        {
          "output_type": "stream",
          "text": [
            "tensor([[1., 1.],\n",
            "        [1., 1.]])\n"
          ],
          "name": "stdout"
        }
      ]
    },
    {
      "cell_type": "code",
      "metadata": {
        "id": "ni8WYm1spSHE",
        "colab_type": "code",
        "outputId": "8e237dc8-f270-42ae-fb51-d3dffbc670d2",
        "colab": {
          "base_uri": "https://localhost:8080/",
          "height": 52
        }
      },
      "source": [
        "# Element-wise addition\n",
        "c = torch.add(a, b)\n",
        "print(c)"
      ],
      "execution_count": 30,
      "outputs": [
        {
          "output_type": "stream",
          "text": [
            "tensor([[2., 2.],\n",
            "        [2., 2.]])\n"
          ],
          "name": "stdout"
        }
      ]
    },
    {
      "cell_type": "markdown",
      "metadata": {
        "id": "snasDhjjphkR",
        "colab_type": "text"
      },
      "source": [
        "**In-place addition**"
      ]
    },
    {
      "cell_type": "code",
      "metadata": {
        "id": "mQRU7fSepkV1",
        "colab_type": "code",
        "outputId": "f749cbfc-ec6b-4f49-e06e-dcf4ba362d0f",
        "colab": {
          "base_uri": "https://localhost:8080/",
          "height": 140
        }
      },
      "source": [
        "print('Old c tensor')\n",
        "print(c)\n",
        "\n",
        "# _ implies in-place operations\n",
        "c.add_(a)\n",
        "\n",
        "print('-'*60)\n",
        "print('New c tensor')\n",
        "print(c)"
      ],
      "execution_count": 31,
      "outputs": [
        {
          "output_type": "stream",
          "text": [
            "Old c tensor\n",
            "tensor([[2., 2.],\n",
            "        [2., 2.]])\n",
            "------------------------------------------------------------\n",
            "New c tensor\n",
            "tensor([[3., 3.],\n",
            "        [3., 3.]])\n"
          ],
          "name": "stdout"
        }
      ]
    },
    {
      "cell_type": "markdown",
      "metadata": {
        "id": "AxaMHwqoqNxO",
        "colab_type": "text"
      },
      "source": [
        "**Element-wise Subtraction**"
      ]
    },
    {
      "cell_type": "code",
      "metadata": {
        "id": "DSCDlfMvqQ2R",
        "colab_type": "code",
        "outputId": "dd3ee5e2-fbea-490d-a251-72fd41891fb3",
        "colab": {
          "base_uri": "https://localhost:8080/",
          "height": 87
        }
      },
      "source": [
        "print(a)\n",
        "print(b)"
      ],
      "execution_count": 32,
      "outputs": [
        {
          "output_type": "stream",
          "text": [
            "tensor([[1., 1.],\n",
            "        [1., 1.]])\n",
            "tensor([[1., 1.],\n",
            "        [1., 1.]])\n"
          ],
          "name": "stdout"
        }
      ]
    },
    {
      "cell_type": "code",
      "metadata": {
        "id": "zapj6mE6qW_T",
        "colab_type": "code",
        "outputId": "0f2bc4dc-ee70-49b5-a1e4-1e930bef8110",
        "colab": {
          "base_uri": "https://localhost:8080/",
          "height": 52
        }
      },
      "source": [
        "a - b"
      ],
      "execution_count": 33,
      "outputs": [
        {
          "output_type": "execute_result",
          "data": {
            "text/plain": [
              "tensor([[0., 0.],\n",
              "        [0., 0.]])"
            ]
          },
          "metadata": {
            "tags": []
          },
          "execution_count": 33
        }
      ]
    },
    {
      "cell_type": "code",
      "metadata": {
        "id": "USm6cwbCqbYR",
        "colab_type": "code",
        "outputId": "ac07a1b5-633b-4b48-872b-2d421b747909",
        "colab": {
          "base_uri": "https://localhost:8080/",
          "height": 87
        }
      },
      "source": [
        "# Not in-place\n",
        "print(a.sub(b))\n",
        "print(a)"
      ],
      "execution_count": 34,
      "outputs": [
        {
          "output_type": "stream",
          "text": [
            "tensor([[0., 0.],\n",
            "        [0., 0.]])\n",
            "tensor([[1., 1.],\n",
            "        [1., 1.]])\n"
          ],
          "name": "stdout"
        }
      ]
    },
    {
      "cell_type": "code",
      "metadata": {
        "id": "6G7bvILxqn3j",
        "colab_type": "code",
        "outputId": "d65b3516-3ef4-4871-e9d0-0a4a73fb420d",
        "colab": {
          "base_uri": "https://localhost:8080/",
          "height": 87
        }
      },
      "source": [
        "# In-place\n",
        "print(a.sub_(b))\n",
        "print(a)"
      ],
      "execution_count": 35,
      "outputs": [
        {
          "output_type": "stream",
          "text": [
            "tensor([[0., 0.],\n",
            "        [0., 0.]])\n",
            "tensor([[0., 0.],\n",
            "        [0., 0.]])\n"
          ],
          "name": "stdout"
        }
      ]
    },
    {
      "cell_type": "markdown",
      "metadata": {
        "id": "z2jTo9vLfDxt",
        "colab_type": "text"
      },
      "source": [
        "**Multiplication**"
      ]
    },
    {
      "cell_type": "code",
      "metadata": {
        "id": "ih5fp9XequlI",
        "colab_type": "code",
        "colab": {
          "base_uri": "https://localhost:8080/",
          "height": 52
        },
        "outputId": "0729c93d-cf2f-42ab-d2a2-81cece68885b"
      },
      "source": [
        "a = torch.ones(2, 2)\n",
        "b = torch.zeros(2, 2)\n",
        "\n",
        "a*b"
      ],
      "execution_count": 40,
      "outputs": [
        {
          "output_type": "execute_result",
          "data": {
            "text/plain": [
              "tensor([[0., 0.],\n",
              "        [0., 0.]])"
            ]
          },
          "metadata": {
            "tags": []
          },
          "execution_count": 40
        }
      ]
    },
    {
      "cell_type": "code",
      "metadata": {
        "id": "oEUvFASxf3-p",
        "colab_type": "code",
        "colab": {
          "base_uri": "https://localhost:8080/",
          "height": 87
        },
        "outputId": "be7f835e-586a-411c-db2d-a9bb490904e5"
      },
      "source": [
        "# Not in-place\n",
        "print(torch.mul(a, b))\n",
        "print(a)"
      ],
      "execution_count": 42,
      "outputs": [
        {
          "output_type": "stream",
          "text": [
            "tensor([[0., 0.],\n",
            "        [0., 0.]])\n",
            "tensor([[1., 1.],\n",
            "        [1., 1.]])\n"
          ],
          "name": "stdout"
        }
      ]
    },
    {
      "cell_type": "code",
      "metadata": {
        "id": "wenSQ0n2gAKi",
        "colab_type": "code",
        "colab": {
          "base_uri": "https://localhost:8080/",
          "height": 87
        },
        "outputId": "d469d841-00fe-47e9-ce29-a69e51001342"
      },
      "source": [
        "# In-place\n",
        "print(a.mul_(b))\n",
        "print(a)"
      ],
      "execution_count": 43,
      "outputs": [
        {
          "output_type": "stream",
          "text": [
            "tensor([[0., 0.],\n",
            "        [0., 0.]])\n",
            "tensor([[0., 0.],\n",
            "        [0., 0.]])\n"
          ],
          "name": "stdout"
        }
      ]
    },
    {
      "cell_type": "markdown",
      "metadata": {
        "id": "6RCvq3j-gmrK",
        "colab_type": "text"
      },
      "source": [
        "**The same goes for division**"
      ]
    },
    {
      "cell_type": "markdown",
      "metadata": {
        "id": "bqaGbzmVgsGZ",
        "colab_type": "text"
      },
      "source": [
        "# Tensor Mean"
      ]
    },
    {
      "cell_type": "code",
      "metadata": {
        "id": "ECmk90-Cgqe8",
        "colab_type": "code",
        "colab": {
          "base_uri": "https://localhost:8080/",
          "height": 35
        },
        "outputId": "6f716778-7ff1-4afc-a6c7-0e252b395609"
      },
      "source": [
        "a = torch.Tensor([1, 2, 3, 4, 5, 6, 7, 8, 9, 10])\n",
        "a.size()"
      ],
      "execution_count": 44,
      "outputs": [
        {
          "output_type": "execute_result",
          "data": {
            "text/plain": [
              "torch.Size([10])"
            ]
          },
          "metadata": {
            "tags": []
          },
          "execution_count": 44
        }
      ]
    },
    {
      "cell_type": "code",
      "metadata": {
        "id": "gIxWFr3rh2DY",
        "colab_type": "code",
        "colab": {
          "base_uri": "https://localhost:8080/",
          "height": 35
        },
        "outputId": "63e4c694-3d1a-495c-dac0-0b5c6f0623c1"
      },
      "source": [
        "a.mean(dim=0)"
      ],
      "execution_count": 46,
      "outputs": [
        {
          "output_type": "execute_result",
          "data": {
            "text/plain": [
              "tensor(5.5000)"
            ]
          },
          "metadata": {
            "tags": []
          },
          "execution_count": 46
        }
      ]
    },
    {
      "cell_type": "code",
      "metadata": {
        "id": "VUc2DuLKiXV4",
        "colab_type": "code",
        "colab": {
          "base_uri": "https://localhost:8080/",
          "height": 35
        },
        "outputId": "2b0f759b-6288-4b54-8467-8cf218a76f74"
      },
      "source": [
        "a = torch.Tensor([[1, 2, 3, 4, 5, 6, 7, 8, 9, 10], [1, 2, 3, 4, 5, 6, 7, 8, 9, 10]])\n",
        "a.shape"
      ],
      "execution_count": 47,
      "outputs": [
        {
          "output_type": "execute_result",
          "data": {
            "text/plain": [
              "torch.Size([2, 10])"
            ]
          },
          "metadata": {
            "tags": []
          },
          "execution_count": 47
        }
      ]
    },
    {
      "cell_type": "code",
      "metadata": {
        "id": "bXvg11bqiiZS",
        "colab_type": "code",
        "colab": {
          "base_uri": "https://localhost:8080/",
          "height": 35
        },
        "outputId": "007fe070-75b3-4fce-8ff0-b221f49ba363"
      },
      "source": [
        "a.mean(dim=1)"
      ],
      "execution_count": 54,
      "outputs": [
        {
          "output_type": "execute_result",
          "data": {
            "text/plain": [
              "tensor([5.5000, 5.5000])"
            ]
          },
          "metadata": {
            "tags": []
          },
          "execution_count": 54
        }
      ]
    },
    {
      "cell_type": "markdown",
      "metadata": {
        "id": "dO9CXniWjCfr",
        "colab_type": "text"
      },
      "source": [
        "# Tensor Standard Deviation"
      ]
    },
    {
      "cell_type": "code",
      "metadata": {
        "id": "BLVRIJ2djFxJ",
        "colab_type": "code",
        "colab": {
          "base_uri": "https://localhost:8080/",
          "height": 35
        },
        "outputId": "e241c292-5a45-47ef-efb6-c30419ca12da"
      },
      "source": [
        "a = torch.Tensor([1, 2, 3, 4, 5, 6, 7, 8, 9, 10])\n",
        "a.std(dim=0)"
      ],
      "execution_count": 56,
      "outputs": [
        {
          "output_type": "execute_result",
          "data": {
            "text/plain": [
              "tensor(3.0277)"
            ]
          },
          "metadata": {
            "tags": []
          },
          "execution_count": 56
        }
      ]
    }
  ]
}