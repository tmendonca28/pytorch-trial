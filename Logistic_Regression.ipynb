{
  "nbformat": 4,
  "nbformat_minor": 0,
  "metadata": {
    "colab": {
      "name": "Logistic_Regression.ipynb",
      "version": "0.3.2",
      "provenance": [],
      "collapsed_sections": [],
      "include_colab_link": true
    },
    "kernelspec": {
      "name": "python3",
      "display_name": "Python 3"
    }
  },
  "cells": [
    {
      "cell_type": "markdown",
      "metadata": {
        "id": "view-in-github",
        "colab_type": "text"
      },
      "source": [
        "<a href=\"https://colab.research.google.com/github/tmendonca28/pytorch-trial/blob/master/Logistic_Regression.ipynb\" target=\"_parent\"><img src=\"https://colab.research.google.com/assets/colab-badge.svg\" alt=\"Open In Colab\"/></a>"
      ]
    },
    {
      "cell_type": "markdown",
      "metadata": {
        "id": "S76e3iHx25jl",
        "colab_type": "text"
      },
      "source": [
        "*   Used for classification\n",
        "*   A good example is for classification: Spam vs No Spam\n",
        "  * Input: Bunch of words\n",
        "  * Output: Probability whether they are spam or not\n",
        "* Logistic Reg: the output is a probability [0,1] given input belonging to a class\n",
        "* It will give a probability between 0 and 1 e.g. p=0.8 or p=0.3"
      ]
    },
    {
      "cell_type": "markdown",
      "metadata": {
        "id": "Rr9uI2z64FpX",
        "colab_type": "text"
      },
      "source": [
        "# Example (Linear Regression First)\n",
        "* Fever\n",
        "* **Input** : Temperature\n",
        "* **Output**: fever or no fever"
      ]
    },
    {
      "cell_type": "code",
      "metadata": {
        "id": "K9Dfj_Yd2Dm3",
        "colab_type": "code",
        "outputId": "781e147b-d225-470c-c96f-ed515262cc77",
        "colab": {
          "base_uri": "https://localhost:8080/",
          "height": 283
        }
      },
      "source": [
        "import numpy as np\n",
        "import matplotlib.pyplot as plt\n",
        "\n",
        "x = [1, 5, 10, 10, 25, 50, 70, 75, 100,]\n",
        "y = [0, 0, 0, 0, 0, 1, 1, 1, 1]\n",
        "\n",
        "colors = np.random.rand(len(x))\n",
        "plt.plot(np.unique(x), np.poly1d(np.polyfit(x, y, 1))(np.unique(x)))\n",
        "plt.ylabel(\"Fever\")\n",
        "plt.xlabel(\"Temperature\")\n",
        "\n",
        "plt.scatter(x, y, c=colors, alpha=0.5)\n",
        "plt.show()\n",
        "# shows that linear regression is not made for classification problems"
      ],
      "execution_count": 63,
      "outputs": [
        {
          "output_type": "display_data",
          "data": {
            "image/png": "[encoded data removed]",
            "text/plain": [
              "<Figure size 432x288 with 1 Axes>"
            ]
          },
          "metadata": {
            "tags": []
          }
        }
      ]
    },
    {
      "cell_type": "markdown",
      "metadata": {
        "id": "Obh6E70Q55T5",
        "colab_type": "text"
      },
      "source": [
        "# **Logistic Regression in-depth**\n",
        "* Linear regression -> logistic function -> probability\n",
        "* y -> S = g(y) \n",
        "* we compare the softmax and true labels (L) with a Cross Entropy Function\n",
        "* D(S, L)"
      ]
    },
    {
      "cell_type": "markdown",
      "metadata": {
        "id": "jq-imycG85TY",
        "colab_type": "text"
      },
      "source": [
        "# Building a Logistic Regression Model with PyTorch\n",
        "* Input size: 784\n",
        "* Output size: 10\n",
        "* Linear Function -> Softmax -> CrossEntropy"
      ]
    },
    {
      "cell_type": "code",
      "metadata": {
        "id": "o6f7YgV_87HB",
        "colab_type": "code",
        "colab": {}
      },
      "source": [
        "# Loading the MNIST Train Dataset\n",
        "import torch\n",
        "import torch.nn as nn\n",
        "import torchvision.transforms as transforms\n",
        "import torchvision.datasets as dsets\n",
        "from torch.autograd import Variable"
      ],
      "execution_count": 0,
      "outputs": []
    },
    {
      "cell_type": "code",
      "metadata": {
        "id": "_jE57Gpb9d9d",
        "colab_type": "code",
        "colab": {}
      },
      "source": [
        "train_dataset = dsets.MNIST(root='./data',\n",
        "                           train=True,\n",
        "                           transform=transforms.ToTensor(),\n",
        "                           download=True)"
      ],
      "execution_count": 0,
      "outputs": []
    },
    {
      "cell_type": "code",
      "metadata": {
        "id": "GkEKSKBw9xTo",
        "colab_type": "code",
        "outputId": "538189b5-57b0-437f-eb4f-8f5bd18bca59",
        "colab": {
          "base_uri": "https://localhost:8080/",
          "height": 35
        }
      },
      "source": [
        "len(train_dataset)"
      ],
      "execution_count": 66,
      "outputs": [
        {
          "output_type": "execute_result",
          "data": {
            "text/plain": [
              "60000"
            ]
          },
          "metadata": {
            "tags": []
          },
          "execution_count": 66
        }
      ]
    },
    {
      "cell_type": "code",
      "metadata": {
        "id": "M1kEl0BJ93uD",
        "colab_type": "code",
        "outputId": "0e926bc7-8ed2-465f-b0e1-3d01db444966",
        "colab": {
          "base_uri": "https://localhost:8080/",
          "height": 1000
        }
      },
      "source": [
        "train_dataset[0]"
      ],
      "execution_count": 67,
      "outputs": [
        {
          "output_type": "execute_result",
          "data": {
            "text/plain": [
              "(tensor([[[0.0000, 0.0000, 0.0000, 0.0000, 0.0000, 0.0000, 0.0000, 0.0000,\n",
              "           0.0000, 0.0000, 0.0000, 0.0000, 0.0000, 0.0000, 0.0000, 0.0000,\n",
              "           0.0000, 0.0000, 0.0000, 0.0000, 0.0000, 0.0000, 0.0000, 0.0000,\n",
              "           0.0000, 0.0000, 0.0000, 0.0000],\n",
              "          [0.0000, 0.0000, 0.0000, 0.0000, 0.0000, 0.0000, 0.0000, 0.0000,\n",
              "           0.0000, 0.0000, 0.0000, 0.0000, 0.0000, 0.0000, 0.0000, 0.0000,\n",
              "           0.0000, 0.0000, 0.0000, 0.0000, 0.0000, 0.0000, 0.0000, 0.0000,\n",
              "           0.0000, 0.0000, 0.0000, 0.0000],\n",
              "          [0.0000, 0.0000, 0.0000, 0.0000, 0.0000, 0.0000, 0.0000, 0.0000,\n",
              "           0.0000, 0.0000, 0.0000, 0.0000, 0.0000, 0.0000, 0.0000, 0.0000,\n",
              "           0.0000, 0.0000, 0.0000, 0.0000, 0.0000, 0.0000, 0.0000, 0.0000,\n",
              "           0.0000, 0.0000, 0.0000, 0.0000],\n",
              "          [0.0000, 0.0000, 0.0000, 0.0000, 0.0000, 0.0000, 0.0000, 0.0000,\n",
              "           0.0000, 0.0000, 0.0000, 0.0000, 0.0000, 0.0000, 0.0000, 0.0000,\n",
              "           0.0000, 0.0000, 0.0000, 0.0000, 0.0000, 0.0000, 0.0000, 0.0000,\n",
              "           0.0000, 0.0000, 0.0000, 0.0000],\n",
              "          [0.0000, 0.0000, 0.0000, 0.0000, 0.0000, 0.0000, 0.0000, 0.0000,\n",
              "           0.0000, 0.0000, 0.0000, 0.0000, 0.0000, 0.0000, 0.0000, 0.0000,\n",
              "           0.0000, 0.0000, 0.0000, 0.0000, 0.0000, 0.0000, 0.0000, 0.0000,\n",
              "           0.0000, 0.0000, 0.0000, 0.0000],\n",
              "          [0.0000, 0.0000, 0.0000, 0.0000, 0.0000, 0.0000, 0.0000, 0.0000,\n",
              "           0.0000, 0.0000, 0.0000, 0.0000, 0.0118, 0.0706, 0.0706, 0.0706,\n",
              "           0.4941, 0.5333, 0.6863, 0.1020, 0.6510, 1.0000, 0.9686, 0.4980,\n",
              "           0.0000, 0.0000, 0.0000, 0.0000],\n",
              "          [0.0000, 0.0000, 0.0000, 0.0000, 0.0000, 0.0000, 0.0000, 0.0000,\n",
              "           0.1176, 0.1412, 0.3686, 0.6039, 0.6667, 0.9922, 0.9922, 0.9922,\n",
              "           0.9922, 0.9922, 0.8824, 0.6745, 0.9922, 0.9490, 0.7647, 0.2510,\n",
              "           0.0000, 0.0000, 0.0000, 0.0000],\n",
              "          [0.0000, 0.0000, 0.0000, 0.0000, 0.0000, 0.0000, 0.0000, 0.1922,\n",
              "           0.9333, 0.9922, 0.9922, 0.9922, 0.9922, 0.9922, 0.9922, 0.9922,\n",
              "           0.9922, 0.9843, 0.3647, 0.3216, 0.3216, 0.2196, 0.1529, 0.0000,\n",
              "           0.0000, 0.0000, 0.0000, 0.0000],\n",
              "          [0.0000, 0.0000, 0.0000, 0.0000, 0.0000, 0.0000, 0.0000, 0.0706,\n",
              "           0.8588, 0.9922, 0.9922, 0.9922, 0.9922, 0.9922, 0.7765, 0.7137,\n",
              "           0.9686, 0.9451, 0.0000, 0.0000, 0.0000, 0.0000, 0.0000, 0.0000,\n",
              "           0.0000, 0.0000, 0.0000, 0.0000],\n",
              "          [0.0000, 0.0000, 0.0000, 0.0000, 0.0000, 0.0000, 0.0000, 0.0000,\n",
              "           0.3137, 0.6118, 0.4196, 0.9922, 0.9922, 0.8039, 0.0431, 0.0000,\n",
              "           0.1686, 0.6039, 0.0000, 0.0000, 0.0000, 0.0000, 0.0000, 0.0000,\n",
              "           0.0000, 0.0000, 0.0000, 0.0000],\n",
              "          [0.0000, 0.0000, 0.0000, 0.0000, 0.0000, 0.0000, 0.0000, 0.0000,\n",
              "           0.0000, 0.0549, 0.0039, 0.6039, 0.9922, 0.3529, 0.0000, 0.0000,\n",
              "           0.0000, 0.0000, 0.0000, 0.0000, 0.0000, 0.0000, 0.0000, 0.0000,\n",
              "           0.0000, 0.0000, 0.0000, 0.0000],\n",
              "          [0.0000, 0.0000, 0.0000, 0.0000, 0.0000, 0.0000, 0.0000, 0.0000,\n",
              "           0.0000, 0.0000, 0.0000, 0.5451, 0.9922, 0.7451, 0.0078, 0.0000,\n",
              "           0.0000, 0.0000, 0.0000, 0.0000, 0.0000, 0.0000, 0.0000, 0.0000,\n",
              "           0.0000, 0.0000, 0.0000, 0.0000],\n",
              "          [0.0000, 0.0000, 0.0000, 0.0000, 0.0000, 0.0000, 0.0000, 0.0000,\n",
              "           0.0000, 0.0000, 0.0000, 0.0431, 0.7451, 0.9922, 0.2745, 0.0000,\n",
              "           0.0000, 0.0000, 0.0000, 0.0000, 0.0000, 0.0000, 0.0000, 0.0000,\n",
              "           0.0000, 0.0000, 0.0000, 0.0000],\n",
              "          [0.0000, 0.0000, 0.0000, 0.0000, 0.0000, 0.0000, 0.0000, 0.0000,\n",
              "           0.0000, 0.0000, 0.0000, 0.0000, 0.1373, 0.9451, 0.8824, 0.6275,\n",
              "           0.4235, 0.0039, 0.0000, 0.0000, 0.0000, 0.0000, 0.0000, 0.0000,\n",
              "           0.0000, 0.0000, 0.0000, 0.0000],\n",
              "          [0.0000, 0.0000, 0.0000, 0.0000, 0.0000, 0.0000, 0.0000, 0.0000,\n",
              "           0.0000, 0.0000, 0.0000, 0.0000, 0.0000, 0.3176, 0.9412, 0.9922,\n",
              "           0.9922, 0.4667, 0.0980, 0.0000, 0.0000, 0.0000, 0.0000, 0.0000,\n",
              "           0.0000, 0.0000, 0.0000, 0.0000],\n",
              "          [0.0000, 0.0000, 0.0000, 0.0000, 0.0000, 0.0000, 0.0000, 0.0000,\n",
              "           0.0000, 0.0000, 0.0000, 0.0000, 0.0000, 0.0000, 0.1765, 0.7294,\n",
              "           0.9922, 0.9922, 0.5882, 0.1059, 0.0000, 0.0000, 0.0000, 0.0000,\n",
              "           0.0000, 0.0000, 0.0000, 0.0000],\n",
              "          [0.0000, 0.0000, 0.0000, 0.0000, 0.0000, 0.0000, 0.0000, 0.0000,\n",
              "           0.0000, 0.0000, 0.0000, 0.0000, 0.0000, 0.0000, 0.0000, 0.0627,\n",
              "           0.3647, 0.9882, 0.9922, 0.7333, 0.0000, 0.0000, 0.0000, 0.0000,\n",
              "           0.0000, 0.0000, 0.0000, 0.0000],\n",
              "          [0.0000, 0.0000, 0.0000, 0.0000, 0.0000, 0.0000, 0.0000, 0.0000,\n",
              "           0.0000, 0.0000, 0.0000, 0.0000, 0.0000, 0.0000, 0.0000, 0.0000,\n",
              "           0.0000, 0.9765, 0.9922, 0.9765, 0.2510, 0.0000, 0.0000, 0.0000,\n",
              "           0.0000, 0.0000, 0.0000, 0.0000],\n",
              "          [0.0000, 0.0000, 0.0000, 0.0000, 0.0000, 0.0000, 0.0000, 0.0000,\n",
              "           0.0000, 0.0000, 0.0000, 0.0000, 0.0000, 0.0000, 0.1804, 0.5098,\n",
              "           0.7176, 0.9922, 0.9922, 0.8118, 0.0078, 0.0000, 0.0000, 0.0000,\n",
              "           0.0000, 0.0000, 0.0000, 0.0000],\n",
              "          [0.0000, 0.0000, 0.0000, 0.0000, 0.0000, 0.0000, 0.0000, 0.0000,\n",
              "           0.0000, 0.0000, 0.0000, 0.0000, 0.1529, 0.5804, 0.8980, 0.9922,\n",
              "           0.9922, 0.9922, 0.9804, 0.7137, 0.0000, 0.0000, 0.0000, 0.0000,\n",
              "           0.0000, 0.0000, 0.0000, 0.0000],\n",
              "          [0.0000, 0.0000, 0.0000, 0.0000, 0.0000, 0.0000, 0.0000, 0.0000,\n",
              "           0.0000, 0.0000, 0.0941, 0.4471, 0.8667, 0.9922, 0.9922, 0.9922,\n",
              "           0.9922, 0.7882, 0.3059, 0.0000, 0.0000, 0.0000, 0.0000, 0.0000,\n",
              "           0.0000, 0.0000, 0.0000, 0.0000],\n",
              "          [0.0000, 0.0000, 0.0000, 0.0000, 0.0000, 0.0000, 0.0000, 0.0000,\n",
              "           0.0902, 0.2588, 0.8353, 0.9922, 0.9922, 0.9922, 0.9922, 0.7765,\n",
              "           0.3176, 0.0078, 0.0000, 0.0000, 0.0000, 0.0000, 0.0000, 0.0000,\n",
              "           0.0000, 0.0000, 0.0000, 0.0000],\n",
              "          [0.0000, 0.0000, 0.0000, 0.0000, 0.0000, 0.0000, 0.0706, 0.6706,\n",
              "           0.8588, 0.9922, 0.9922, 0.9922, 0.9922, 0.7647, 0.3137, 0.0353,\n",
              "           0.0000, 0.0000, 0.0000, 0.0000, 0.0000, 0.0000, 0.0000, 0.0000,\n",
              "           0.0000, 0.0000, 0.0000, 0.0000],\n",
              "          [0.0000, 0.0000, 0.0000, 0.0000, 0.2157, 0.6745, 0.8863, 0.9922,\n",
              "           0.9922, 0.9922, 0.9922, 0.9569, 0.5216, 0.0431, 0.0000, 0.0000,\n",
              "           0.0000, 0.0000, 0.0000, 0.0000, 0.0000, 0.0000, 0.0000, 0.0000,\n",
              "           0.0000, 0.0000, 0.0000, 0.0000],\n",
              "          [0.0000, 0.0000, 0.0000, 0.0000, 0.5333, 0.9922, 0.9922, 0.9922,\n",
              "           0.8314, 0.5294, 0.5176, 0.0627, 0.0000, 0.0000, 0.0000, 0.0000,\n",
              "           0.0000, 0.0000, 0.0000, 0.0000, 0.0000, 0.0000, 0.0000, 0.0000,\n",
              "           0.0000, 0.0000, 0.0000, 0.0000],\n",
              "          [0.0000, 0.0000, 0.0000, 0.0000, 0.0000, 0.0000, 0.0000, 0.0000,\n",
              "           0.0000, 0.0000, 0.0000, 0.0000, 0.0000, 0.0000, 0.0000, 0.0000,\n",
              "           0.0000, 0.0000, 0.0000, 0.0000, 0.0000, 0.0000, 0.0000, 0.0000,\n",
              "           0.0000, 0.0000, 0.0000, 0.0000],\n",
              "          [0.0000, 0.0000, 0.0000, 0.0000, 0.0000, 0.0000, 0.0000, 0.0000,\n",
              "           0.0000, 0.0000, 0.0000, 0.0000, 0.0000, 0.0000, 0.0000, 0.0000,\n",
              "           0.0000, 0.0000, 0.0000, 0.0000, 0.0000, 0.0000, 0.0000, 0.0000,\n",
              "           0.0000, 0.0000, 0.0000, 0.0000],\n",
              "          [0.0000, 0.0000, 0.0000, 0.0000, 0.0000, 0.0000, 0.0000, 0.0000,\n",
              "           0.0000, 0.0000, 0.0000, 0.0000, 0.0000, 0.0000, 0.0000, 0.0000,\n",
              "           0.0000, 0.0000, 0.0000, 0.0000, 0.0000, 0.0000, 0.0000, 0.0000,\n",
              "           0.0000, 0.0000, 0.0000, 0.0000]]]), 5)"
            ]
          },
          "metadata": {
            "tags": []
          },
          "execution_count": 67
        }
      ]
    },
    {
      "cell_type": "code",
      "metadata": {
        "id": "PJqM8P3X-Rbh",
        "colab_type": "code",
        "outputId": "ef3fa442-527e-461c-e53a-7af030bdb6f4",
        "colab": {
          "base_uri": "https://localhost:8080/",
          "height": 35
        }
      },
      "source": [
        "type(train_dataset[0])"
      ],
      "execution_count": 68,
      "outputs": [
        {
          "output_type": "execute_result",
          "data": {
            "text/plain": [
              "tuple"
            ]
          },
          "metadata": {
            "tags": []
          },
          "execution_count": 68
        }
      ]
    },
    {
      "cell_type": "code",
      "metadata": {
        "id": "m6aX-hzh-W6w",
        "colab_type": "code",
        "outputId": "123a81d3-89d5-4278-a87e-c6cc8725d09c",
        "colab": {
          "base_uri": "https://localhost:8080/",
          "height": 35
        }
      },
      "source": [
        "# Input matrix\n",
        "train_dataset[0][0].size()"
      ],
      "execution_count": 69,
      "outputs": [
        {
          "output_type": "execute_result",
          "data": {
            "text/plain": [
              "torch.Size([1, 28, 28])"
            ]
          },
          "metadata": {
            "tags": []
          },
          "execution_count": 69
        }
      ]
    },
    {
      "cell_type": "code",
      "metadata": {
        "id": "V0UkQ_k5-mX2",
        "colab_type": "code",
        "outputId": "0bbcbb77-f44e-4c4f-baa9-c9d53512effd",
        "colab": {
          "base_uri": "https://localhost:8080/",
          "height": 35
        }
      },
      "source": [
        "# Label\n",
        "train_dataset[0][1]"
      ],
      "execution_count": 70,
      "outputs": [
        {
          "output_type": "execute_result",
          "data": {
            "text/plain": [
              "5"
            ]
          },
          "metadata": {
            "tags": []
          },
          "execution_count": 70
        }
      ]
    },
    {
      "cell_type": "markdown",
      "metadata": {
        "id": "Kl1VERM_-um0",
        "colab_type": "text"
      },
      "source": [
        "**Displaying MNIST**"
      ]
    },
    {
      "cell_type": "code",
      "metadata": {
        "id": "oktK5lNY-xEk",
        "colab_type": "code",
        "colab": {}
      },
      "source": [
        "import matplotlib.pyplot as plt\n",
        "%matplotlib inline\n",
        "import numpy as np"
      ],
      "execution_count": 0,
      "outputs": []
    },
    {
      "cell_type": "code",
      "metadata": {
        "id": "7G3VwsYp-7AW",
        "colab_type": "code",
        "outputId": "6fc538d8-99ff-4002-811d-89067aaa4831",
        "colab": {
          "base_uri": "https://localhost:8080/",
          "height": 35
        }
      },
      "source": [
        "train_dataset[0][0].numpy().shape"
      ],
      "execution_count": 72,
      "outputs": [
        {
          "output_type": "execute_result",
          "data": {
            "text/plain": [
              "(1, 28, 28)"
            ]
          },
          "metadata": {
            "tags": []
          },
          "execution_count": 72
        }
      ]
    },
    {
      "cell_type": "code",
      "metadata": {
        "id": "PIriTCMC-_lH",
        "colab_type": "code",
        "colab": {}
      },
      "source": [
        "show_img = train_dataset[0][0].numpy().reshape(28, 28)"
      ],
      "execution_count": 0,
      "outputs": []
    },
    {
      "cell_type": "code",
      "metadata": {
        "id": "jx1T4mmn_HiR",
        "colab_type": "code",
        "outputId": "dd053984-f2d7-4c4e-f03d-9928ebebe80b",
        "colab": {
          "base_uri": "https://localhost:8080/",
          "height": 287
        }
      },
      "source": [
        "plt.imshow(show_img, cmap='gray')"
      ],
      "execution_count": 74,
      "outputs": [
        {
          "output_type": "execute_result",
          "data": {
            "text/plain": [
              "<matplotlib.image.AxesImage at 0x7f968f95ee80>"
            ]
          },
          "metadata": {
            "tags": []
          },
          "execution_count": 74
        },
        {
          "output_type": "display_data",
          "data": {
            "image/png": "[encoded data removed]",
            "text/plain": [
              "<Figure size 432x288 with 1 Axes>"
            ]
          },
          "metadata": {
            "tags": []
          }
        }
      ]
    },
    {
      "cell_type": "markdown",
      "metadata": {
        "id": "B2JVJKs0_y2n",
        "colab_type": "text"
      },
      "source": [
        "**Loading MNIST Test Dataset**\n",
        "\n",
        "\n",
        "*   Helps to show that the algorithm works beyond the data we have trained on\n",
        "*   Out-of-sample\n",
        "\n"
      ]
    },
    {
      "cell_type": "code",
      "metadata": {
        "id": "QmZ3HfWH_qZX",
        "colab_type": "code",
        "colab": {}
      },
      "source": [
        "test_dataset = dsets.MNIST(root='./data',\n",
        "                           train=False,\n",
        "                           transform=transforms.ToTensor())"
      ],
      "execution_count": 0,
      "outputs": []
    },
    {
      "cell_type": "code",
      "metadata": {
        "id": "jUBb6X0GDS_C",
        "colab_type": "code",
        "outputId": "e9be362e-906e-408b-c243-42656b292e25",
        "colab": {
          "base_uri": "https://localhost:8080/",
          "height": 35
        }
      },
      "source": [
        "len(test_dataset)"
      ],
      "execution_count": 76,
      "outputs": [
        {
          "output_type": "execute_result",
          "data": {
            "text/plain": [
              "10000"
            ]
          },
          "metadata": {
            "tags": []
          },
          "execution_count": 76
        }
      ]
    },
    {
      "cell_type": "code",
      "metadata": {
        "id": "gqfdUs18DVMo",
        "colab_type": "code",
        "outputId": "823d922d-583c-48b7-cf69-744f08e9917b",
        "colab": {
          "base_uri": "https://localhost:8080/",
          "height": 287
        }
      },
      "source": [
        "show_img = test_dataset[0][0].numpy().reshape(28, 28)\n",
        "plt.imshow(show_img, cmap='gray')"
      ],
      "execution_count": 77,
      "outputs": [
        {
          "output_type": "execute_result",
          "data": {
            "text/plain": [
              "<matplotlib.image.AxesImage at 0x7f968f93f048>"
            ]
          },
          "metadata": {
            "tags": []
          },
          "execution_count": 77
        },
        {
          "output_type": "display_data",
          "data": {
            "image/png": "[encoded data removed]",
            "text/plain": [
              "<Figure size 432x288 with 1 Axes>"
            ]
          },
          "metadata": {
            "tags": []
          }
        }
      ]
    },
    {
      "cell_type": "code",
      "metadata": {
        "id": "Jeuope08Do0e",
        "colab_type": "code",
        "outputId": "6120785d-3d56-432a-b102-aa23ea92329d",
        "colab": {
          "base_uri": "https://localhost:8080/",
          "height": 35
        }
      },
      "source": [
        "# Label\n",
        "test_dataset[0][1]"
      ],
      "execution_count": 78,
      "outputs": [
        {
          "output_type": "execute_result",
          "data": {
            "text/plain": [
              "7"
            ]
          },
          "metadata": {
            "tags": []
          },
          "execution_count": 78
        }
      ]
    },
    {
      "cell_type": "markdown",
      "metadata": {
        "id": "bfd-j12iDuvT",
        "colab_type": "text"
      },
      "source": [
        "**Make Dataset Iterable**\n",
        "* totaldata = 60000\n",
        "* minibatch = 100\n",
        "  * Number of examples in one iteration\n",
        "* Iterations = 3000\n",
        "  * where 1 iteration is one mini-batch forward & backward pass\n",
        "* Epochs\n",
        "  * 1 epoch: running through the whole dataset once\n",
        "  * epochs = iterations / (totaldata/minibatch) = 3000 / (60000/100) = 5"
      ]
    },
    {
      "cell_type": "code",
      "metadata": {
        "id": "3m_cPy5UFKVp",
        "colab_type": "code",
        "outputId": "fd53ca75-8411-4c3f-bef4-5555ee9818e7",
        "colab": {
          "base_uri": "https://localhost:8080/",
          "height": 35
        }
      },
      "source": [
        "len(train_dataset)"
      ],
      "execution_count": 79,
      "outputs": [
        {
          "output_type": "execute_result",
          "data": {
            "text/plain": [
              "60000"
            ]
          },
          "metadata": {
            "tags": []
          },
          "execution_count": 79
        }
      ]
    },
    {
      "cell_type": "code",
      "metadata": {
        "id": "jb8KRDD2FOyy",
        "colab_type": "code",
        "colab": {}
      },
      "source": [
        "batch_size = 100"
      ],
      "execution_count": 0,
      "outputs": []
    },
    {
      "cell_type": "code",
      "metadata": {
        "id": "zSrMFXH4FQiU",
        "colab_type": "code",
        "colab": {}
      },
      "source": [
        "n_iters = 3000"
      ],
      "execution_count": 0,
      "outputs": []
    },
    {
      "cell_type": "code",
      "metadata": {
        "id": "X6bKbgJ2FSS1",
        "colab_type": "code",
        "outputId": "834d8333-8733-460f-cdcd-f8f5ef439258",
        "colab": {
          "base_uri": "https://localhost:8080/",
          "height": 35
        }
      },
      "source": [
        "num_epochs = n_iters / (len(train_dataset)/ batch_size)\n",
        "num_epochs = int(num_epochs)\n",
        "num_epochs"
      ],
      "execution_count": 82,
      "outputs": [
        {
          "output_type": "execute_result",
          "data": {
            "text/plain": [
              "5"
            ]
          },
          "metadata": {
            "tags": []
          },
          "execution_count": 82
        }
      ]
    },
    {
      "cell_type": "markdown",
      "metadata": {
        "id": "C5lo-Pk-FhK5",
        "colab_type": "text"
      },
      "source": [
        "**Create Iterable Object: Training Dataset**"
      ]
    },
    {
      "cell_type": "code",
      "metadata": {
        "id": "ejutEOS2FjiV",
        "colab_type": "code",
        "colab": {}
      },
      "source": [
        "train_loader = torch.utils.data.DataLoader(dataset=train_dataset, batch_size=batch_size, shuffle=True)\n",
        "# shuffle=True helps in preventing overfitting"
      ],
      "execution_count": 0,
      "outputs": []
    },
    {
      "cell_type": "markdown",
      "metadata": {
        "id": "RQknPtHFGB3N",
        "colab_type": "text"
      },
      "source": [
        "**Checking Iterability**"
      ]
    },
    {
      "cell_type": "code",
      "metadata": {
        "id": "xZKnK8NUF_at",
        "colab_type": "code",
        "outputId": "ff09e9ab-86ae-44e8-e12e-e8137fc4c998",
        "colab": {
          "base_uri": "https://localhost:8080/",
          "height": 35
        }
      },
      "source": [
        "import collections\n",
        "isinstance(train_loader, collections.Iterable)"
      ],
      "execution_count": 84,
      "outputs": [
        {
          "output_type": "execute_result",
          "data": {
            "text/plain": [
              "True"
            ]
          },
          "metadata": {
            "tags": []
          },
          "execution_count": 84
        }
      ]
    },
    {
      "cell_type": "markdown",
      "metadata": {
        "id": "E1oUAiUbGOPw",
        "colab_type": "text"
      },
      "source": [
        "**Create Iterable Object: Testing Dataset**"
      ]
    },
    {
      "cell_type": "code",
      "metadata": {
        "id": "lIOiZag2GKhM",
        "colab_type": "code",
        "colab": {}
      },
      "source": [
        "test_loader = torch.utils.data.DataLoader(dataset=test_dataset, batch_size=batch_size, shuffle=False)"
      ],
      "execution_count": 0,
      "outputs": []
    },
    {
      "cell_type": "markdown",
      "metadata": {
        "id": "WMVyuLYMGhgq",
        "colab_type": "text"
      },
      "source": [
        "**Building our Model**"
      ]
    },
    {
      "cell_type": "code",
      "metadata": {
        "id": "BZu3kiwyGcEa",
        "colab_type": "code",
        "colab": {}
      },
      "source": [
        "class LogisticRegressionModel(nn.Module):\n",
        "  def __init__(self, input_dim, output_dim):\n",
        "    super(LogisticRegressionModel, self).__init__()\n",
        "    self.linear = nn.Linear(input_dim, output_dim)\n",
        "    \n",
        "  def forward(self, x):\n",
        "    out = self.linear(x)\n",
        "    return out"
      ],
      "execution_count": 0,
      "outputs": []
    },
    {
      "cell_type": "markdown",
      "metadata": {
        "id": "StDM-sV7HKa5",
        "colab_type": "text"
      },
      "source": [
        "**Instantiate Model class**"
      ]
    },
    {
      "cell_type": "code",
      "metadata": {
        "id": "31uP0BDtHIaO",
        "colab_type": "code",
        "outputId": "bd338e45-59b5-46b8-c8b3-26da456400d3",
        "colab": {
          "base_uri": "https://localhost:8080/",
          "height": 35
        }
      },
      "source": [
        "# Size of images\n",
        "train_dataset[0][0].size()"
      ],
      "execution_count": 87,
      "outputs": [
        {
          "output_type": "execute_result",
          "data": {
            "text/plain": [
              "torch.Size([1, 28, 28])"
            ]
          },
          "metadata": {
            "tags": []
          },
          "execution_count": 87
        }
      ]
    },
    {
      "cell_type": "code",
      "metadata": {
        "id": "PJE-OBOXHab0",
        "colab_type": "code",
        "colab": {}
      },
      "source": [
        "input_dim = 28*28\n",
        "output_dim = 10\n",
        "model = LogisticRegressionModel(input_dim, output_dim)"
      ],
      "execution_count": 0,
      "outputs": []
    },
    {
      "cell_type": "markdown",
      "metadata": {
        "id": "4l6eRGEVHiBH",
        "colab_type": "text"
      },
      "source": [
        "**Instantiate Loss class**"
      ]
    },
    {
      "cell_type": "code",
      "metadata": {
        "id": "_p34af0lHkvq",
        "colab_type": "code",
        "colab": {}
      },
      "source": [
        "criterion = nn.CrossEntropyLoss()"
      ],
      "execution_count": 0,
      "outputs": []
    },
    {
      "cell_type": "markdown",
      "metadata": {
        "id": "0d517nYWHphk",
        "colab_type": "text"
      },
      "source": [
        "\n",
        "**What does the nn.CrossEntropyLoss do?**\n",
        "*   Computes softmax\n",
        "*   Computes cross entropy\n",
        "\n"
      ]
    },
    {
      "cell_type": "markdown",
      "metadata": {
        "id": "C32KL75vH4cE",
        "colab_type": "text"
      },
      "source": [
        "**Instantiate Optimizer Class**"
      ]
    },
    {
      "cell_type": "code",
      "metadata": {
        "id": "FnnBDfAPH0jr",
        "colab_type": "code",
        "colab": {}
      },
      "source": [
        "learning_rate = 0.001\n",
        "\n",
        "optimizer = torch.optim.SGD(model.parameters(), lr = learning_rate)"
      ],
      "execution_count": 0,
      "outputs": []
    },
    {
      "cell_type": "markdown",
      "metadata": {
        "id": "ff67_9MfIJ5m",
        "colab_type": "text"
      },
      "source": [
        "**Params in-depth**"
      ]
    },
    {
      "cell_type": "code",
      "metadata": {
        "id": "Dl3B2NcWIIPE",
        "colab_type": "code",
        "outputId": "90e26b9f-ab2c-48e4-872b-3d4e99f4066f",
        "colab": {
          "base_uri": "https://localhost:8080/",
          "height": 87
        }
      },
      "source": [
        "print(model.parameters())\n",
        "print(len(list(model.parameters())))\n",
        "\n",
        "# 1st Parameter\n",
        "print(list(model.parameters())[0].size())\n",
        "\n",
        "# 2nd Parameter\n",
        "print(list(model.parameters())[1].size())"
      ],
      "execution_count": 91,
      "outputs": [
        {
          "output_type": "stream",
          "text": [
            "<generator object Module.parameters at 0x7f968f0f9c50>\n",
            "2\n",
            "torch.Size([10, 784])\n",
            "torch.Size([10])\n"
          ],
          "name": "stdout"
        }
      ]
    },
    {
      "cell_type": "markdown",
      "metadata": {
        "id": "oaVsQmKQ-jSB",
        "colab_type": "text"
      },
      "source": [
        "**Training the Model**"
      ]
    },
    {
      "cell_type": "code",
      "metadata": {
        "id": "-yavU9Gq-k4u",
        "colab_type": "code",
        "colab": {
          "base_uri": "https://localhost:8080/",
          "height": 123
        },
        "outputId": "ff25a8d8-7f49-425c-a754-1e3a180fc959"
      },
      "source": [
        "iter = 0\n",
        "for epoch in range(num_epochs):\n",
        "  for i, (images, labels) in enumerate(train_loader):\n",
        "    # Load images as Variable\n",
        "    images = Variable(images.view(-1, 28*28))\n",
        "    labels = Variable(labels)\n",
        "    \n",
        "    # Clear gradients w.r.t params\n",
        "    optimizer.zero_grad()\n",
        "    \n",
        "    # Forward pass to get output\n",
        "    outputs = model(images)\n",
        "    \n",
        "    # Calculate loss\n",
        "    loss = criterion(outputs, labels)\n",
        "    \n",
        "    # Get gradients w.r.t params\n",
        "    loss.backward()\n",
        "    \n",
        "    # Update params\n",
        "    optimizer.step()\n",
        "    \n",
        "    iter+=1\n",
        "    \n",
        "    if iter%500 == 0:\n",
        "      # Calculate Accuracy (every 500 iterations)\n",
        "      correct = 0\n",
        "      total = 0\n",
        "      \n",
        "      # Iterate through the test dataset\n",
        "      for images, labels in test_loader:\n",
        "        # Load images into a torch Variable\n",
        "        images = Variable(images.view(-1, 28*28))\n",
        "        \n",
        "        # Forward pass only to get output\n",
        "        outputs = model(images)\n",
        "        \n",
        "        # Get predictions from the maximum value\n",
        "        _, predicted = torch.max(outputs.data, 1)\n",
        "        \n",
        "        # Total nuber of labels\n",
        "        total += labels.size(0)\n",
        "        \n",
        "        # Total correct predictions\n",
        "        correct += (predicted == labels).sum()\n",
        "        \n",
        "      accuracy = 100 * correct/total\n",
        "    \n",
        "      # Print Loss\n",
        "      print('Iteration:{}. Loss:{}. Accuracy: {}.'.format(iter, loss.item(), accuracy))"
      ],
      "execution_count": 93,
      "outputs": [
        {
          "output_type": "stream",
          "text": [
            "Iteration:500. Loss:1.5405076742172241. Accuracy: 76.\n",
            "Iteration:1000. Loss:1.3651515245437622. Accuracy: 79.\n",
            "Iteration:1500. Loss:1.2225667238235474. Accuracy: 81.\n",
            "Iteration:2000. Loss:1.0226327180862427. Accuracy: 82.\n",
            "Iteration:2500. Loss:1.152177095413208. Accuracy: 83.\n",
            "Iteration:3000. Loss:0.8591456413269043. Accuracy: 83.\n"
          ],
          "name": "stdout"
        }
      ]
    },
    {
      "cell_type": "markdown",
      "metadata": {
        "id": "TsvAOwbvEiVw",
        "colab_type": "text"
      },
      "source": [
        "**Save Model**"
      ]
    },
    {
      "cell_type": "code",
      "metadata": {
        "id": "QGiXxn0TEhhS",
        "colab_type": "code",
        "colab": {}
      },
      "source": [
        "save_model = False\n",
        "if save_model is True:\n",
        "  # Saves only parameters\n",
        "  torch.save(model.state_dict(), 'awesome_model.pkl')"
      ],
      "execution_count": 0,
      "outputs": []
    }
  ]
}